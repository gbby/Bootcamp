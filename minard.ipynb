{
 "cells": [
  {
   "cell_type": "code",
   "execution_count": 5,
   "metadata": {},
   "outputs": [],
   "source": [
    "# Import the necessary libraries\n",
    "# You will likely need to install a number of these modules/libraries \n",
    "# (e.g. pip install geopandas or conda install geopandas)\n",
    "import pandas as pd\n",
    "import geopandas as gpd\n",
    "import geoplot as gplt\n",
    "import matplotlib.pyplot as plt\n",
    "import mplleaflet\n",
    "from matplotlib.colors import LinearSegmentedColormap\n",
    "\n",
    "# To ignore jupyter warning about using iframes instead of mplleaflet.display() to display figures in the notebook\n",
    "# also, heads up that most recent version of matplotlib might break your version of mplleaflet\n",
    "# if it does, run pip install matplotlib==3.3.2\n",
    "import warnings\n",
    "warnings.filterwarnings('ignore')"
   ]
  },
  {
   "cell_type": "code",
   "execution_count": 9,
   "metadata": {},
   "outputs": [],
   "source": [
    "# Use geopandas to read in the dataset from geoplot (it's included in the library)\n",
    "napoleon_troop_movements = gpd.read_file(gplt.datasets.get_path('napoleon_troop_movements'))"
   ]
  },
  {
   "cell_type": "code",
   "execution_count": 10,
   "metadata": {},
   "outputs": [
    {
     "data": {
      "text/html": [
       "<div>\n",
       "<style scoped>\n",
       "    .dataframe tbody tr th:only-of-type {\n",
       "        vertical-align: middle;\n",
       "    }\n",
       "\n",
       "    .dataframe tbody tr th {\n",
       "        vertical-align: top;\n",
       "    }\n",
       "\n",
       "    .dataframe thead th {\n",
       "        text-align: right;\n",
       "    }\n",
       "</style>\n",
       "<table border=\"1\" class=\"dataframe\">\n",
       "  <thead>\n",
       "    <tr style=\"text-align: right;\">\n",
       "      <th></th>\n",
       "      <th>id</th>\n",
       "      <th>direction</th>\n",
       "      <th>survivors</th>\n",
       "      <th>group</th>\n",
       "      <th>geometry</th>\n",
       "    </tr>\n",
       "  </thead>\n",
       "  <tbody>\n",
       "    <tr>\n",
       "      <th>0</th>\n",
       "      <td>1</td>\n",
       "      <td>0</td>\n",
       "      <td>340000</td>\n",
       "      <td>1</td>\n",
       "      <td>MULTIPOINT (24.50000 55.00000, 24.00000 54.90000)</td>\n",
       "    </tr>\n",
       "    <tr>\n",
       "      <th>1</th>\n",
       "      <td>2</td>\n",
       "      <td>0</td>\n",
       "      <td>340000</td>\n",
       "      <td>1</td>\n",
       "      <td>MULTIPOINT (25.50000 54.50000, 24.50000 55.00000)</td>\n",
       "    </tr>\n",
       "    <tr>\n",
       "      <th>2</th>\n",
       "      <td>3</td>\n",
       "      <td>0</td>\n",
       "      <td>320000</td>\n",
       "      <td>1</td>\n",
       "      <td>MULTIPOINT (26.00000 54.70000, 25.50000 54.50000)</td>\n",
       "    </tr>\n",
       "    <tr>\n",
       "      <th>3</th>\n",
       "      <td>4</td>\n",
       "      <td>0</td>\n",
       "      <td>300000</td>\n",
       "      <td>1</td>\n",
       "      <td>MULTIPOINT (27.00000 54.80000, 26.00000 54.70000)</td>\n",
       "    </tr>\n",
       "    <tr>\n",
       "      <th>4</th>\n",
       "      <td>5</td>\n",
       "      <td>0</td>\n",
       "      <td>280000</td>\n",
       "      <td>1</td>\n",
       "      <td>MULTIPOINT (28.00000 54.90000, 27.00000 54.80000)</td>\n",
       "    </tr>\n",
       "  </tbody>\n",
       "</table>\n",
       "</div>"
      ],
      "text/plain": [
       "  id  direction  survivors  group  \\\n",
       "0  1          0     340000      1   \n",
       "1  2          0     340000      1   \n",
       "2  3          0     320000      1   \n",
       "3  4          0     300000      1   \n",
       "4  5          0     280000      1   \n",
       "\n",
       "                                            geometry  \n",
       "0  MULTIPOINT (24.50000 55.00000, 24.00000 54.90000)  \n",
       "1  MULTIPOINT (25.50000 54.50000, 24.50000 55.00000)  \n",
       "2  MULTIPOINT (26.00000 54.70000, 25.50000 54.50000)  \n",
       "3  MULTIPOINT (27.00000 54.80000, 26.00000 54.70000)  \n",
       "4  MULTIPOINT (28.00000 54.90000, 27.00000 54.80000)  "
      ]
     },
     "execution_count": 10,
     "metadata": {},
     "output_type": "execute_result"
    }
   ],
   "source": [
    "# Take a quick look at the data\n",
    "napoleon_troop_movements.head()"
   ]
  },
  {
   "cell_type": "code",
   "execution_count": 11,
   "metadata": {},
   "outputs": [],
   "source": [
    "# Use a custom colour map to store your colour preferences\n",
    "colors = [(215/255, 193/255, 126/255), (37/255, 37/255, 37/255)]\n",
    "cm = LinearSegmentedColormap.from_list('minard', colors)"
   ]
  },
  {
   "cell_type": "code",
   "execution_count": 12,
   "metadata": {},
   "outputs": [
    {
     "ename": "TypeError",
     "evalue": "'MultiPoint' object is not iterable",
     "output_type": "error",
     "traceback": [
      "\u001b[0;31m---------------------------------------------------------------------------\u001b[0m",
      "\u001b[0;31mTypeError\u001b[0m                                 Traceback (most recent call last)",
      "Cell \u001b[0;32mIn[12], line 3\u001b[0m\n\u001b[1;32m      1\u001b[0m \u001b[38;5;66;03m# Set the parameters for your sankey diagram\u001b[39;00m\n\u001b[1;32m      2\u001b[0m \u001b[38;5;66;03m# For reference, a sankey is a type of flow diagram: https://en.wikipedia.org/wiki/Sankey_diagram\u001b[39;00m\n\u001b[0;32m----> 3\u001b[0m \u001b[43mgplt\u001b[49m\u001b[38;5;241;43m.\u001b[39;49m\u001b[43msankey\u001b[49m\u001b[43m(\u001b[49m\n\u001b[1;32m      4\u001b[0m \u001b[43m    \u001b[49m\u001b[43mnapoleon_troop_movements\u001b[49m\u001b[43m,\u001b[49m\n\u001b[1;32m      5\u001b[0m \u001b[43m    \u001b[49m\u001b[43mscale\u001b[49m\u001b[38;5;241;43m=\u001b[39;49m\u001b[38;5;124;43m'\u001b[39;49m\u001b[38;5;124;43msurvivors\u001b[39;49m\u001b[38;5;124;43m'\u001b[39;49m\u001b[43m,\u001b[49m\u001b[43m \u001b[49m\u001b[43mlimits\u001b[49m\u001b[38;5;241;43m=\u001b[39;49m\u001b[43m(\u001b[49m\u001b[38;5;241;43m0.5\u001b[39;49m\u001b[43m,\u001b[49m\u001b[43m \u001b[49m\u001b[38;5;241;43m45\u001b[39;49m\u001b[43m)\u001b[49m\u001b[43m,\u001b[49m\n\u001b[1;32m      6\u001b[0m \u001b[43m    \u001b[49m\u001b[43mhue\u001b[49m\u001b[38;5;241;43m=\u001b[39;49m\u001b[38;5;124;43m'\u001b[39;49m\u001b[38;5;124;43mdirection\u001b[39;49m\u001b[38;5;124;43m'\u001b[39;49m\u001b[43m,\u001b[49m\n\u001b[1;32m      7\u001b[0m \u001b[43m    \u001b[49m\u001b[43mcmap\u001b[49m\u001b[38;5;241;43m=\u001b[39;49m\u001b[43mcm\u001b[49m\n\u001b[1;32m      8\u001b[0m \u001b[43m)\u001b[49m\n\u001b[1;32m     10\u001b[0m \u001b[38;5;66;03m# See what your sankey will look like\u001b[39;00m\n\u001b[1;32m     11\u001b[0m fig \u001b[38;5;241m=\u001b[39m plt\u001b[38;5;241m.\u001b[39mgcf()\n",
      "File \u001b[0;32m~/.local/lib/python3.10/site-packages/geoplot/geoplot.py:1477\u001b[0m, in \u001b[0;36msankey\u001b[0;34m(df, projection, hue, norm, cmap, scheme, legend, legend_kwargs, legend_labels, legend_values, legend_var, extent, figsize, scale, scale_func, limits, ax, **kwargs)\u001b[0m\n\u001b[1;32m   1467\u001b[0m         \u001b[38;5;28;01mreturn\u001b[39;00m ax\n\u001b[1;32m   1469\u001b[0m plot \u001b[38;5;241m=\u001b[39m SankeyPlot(\n\u001b[1;32m   1470\u001b[0m     df, figsize\u001b[38;5;241m=\u001b[39mfigsize, ax\u001b[38;5;241m=\u001b[39max, extent\u001b[38;5;241m=\u001b[39mextent, projection\u001b[38;5;241m=\u001b[39mprojection,\n\u001b[1;32m   1471\u001b[0m     scale\u001b[38;5;241m=\u001b[39mscale, limits\u001b[38;5;241m=\u001b[39mlimits, scale_func\u001b[38;5;241m=\u001b[39mscale_func,\n\u001b[0;32m   (...)\u001b[0m\n\u001b[1;32m   1475\u001b[0m     \u001b[38;5;241m*\u001b[39m\u001b[38;5;241m*\u001b[39mkwargs\n\u001b[1;32m   1476\u001b[0m )\n\u001b[0;32m-> 1477\u001b[0m \u001b[38;5;28;01mreturn\u001b[39;00m \u001b[43mplot\u001b[49m\u001b[38;5;241;43m.\u001b[39;49m\u001b[43mdraw\u001b[49m\u001b[43m(\u001b[49m\u001b[43m)\u001b[49m\n",
      "File \u001b[0;32m~/.local/lib/python3.10/site-packages/geoplot/geoplot.py:1433\u001b[0m, in \u001b[0;36msankey.<locals>.SankeyPlot.draw\u001b[0;34m(self)\u001b[0m\n\u001b[1;32m   1428\u001b[0m     \u001b[38;5;28;01melse\u001b[39;00m:\n\u001b[1;32m   1429\u001b[0m         \u001b[38;5;28;01mraise\u001b[39;00m \u001b[38;5;167;01mValueError\u001b[39;00m(\n\u001b[1;32m   1430\u001b[0m             \u001b[38;5;124mf\u001b[39m\u001b[38;5;124m'\u001b[39m\u001b[38;5;124mdf.geometry must contain LineString, MultiLineString, or MultiPoint \u001b[39m\u001b[38;5;124m'\u001b[39m\n\u001b[1;32m   1431\u001b[0m             \u001b[38;5;124mf\u001b[39m\u001b[38;5;124m'\u001b[39m\u001b[38;5;124mgeometries, but an instance of \u001b[39m\u001b[38;5;132;01m{\u001b[39;00m\u001b[38;5;28mtype\u001b[39m(geom)\u001b[38;5;132;01m}\u001b[39;00m\u001b[38;5;124m was found instead.\u001b[39m\u001b[38;5;124m'\u001b[39m\n\u001b[1;32m   1432\u001b[0m         )\n\u001b[0;32m-> 1433\u001b[0m path_geoms \u001b[38;5;241m=\u001b[39m \u001b[38;5;28;43mself\u001b[39;49m\u001b[38;5;241;43m.\u001b[39;49m\u001b[43mdf\u001b[49m\u001b[38;5;241;43m.\u001b[39;49m\u001b[43mgeometry\u001b[49m\u001b[38;5;241;43m.\u001b[39;49m\u001b[43mmap\u001b[49m\u001b[43m(\u001b[49m\u001b[43mparse_geom\u001b[49m\u001b[43m)\u001b[49m\n\u001b[1;32m   1435\u001b[0m linestyle \u001b[38;5;241m=\u001b[39m kwargs\u001b[38;5;241m.\u001b[39mpop(\u001b[38;5;124m'\u001b[39m\u001b[38;5;124mlinestyle\u001b[39m\u001b[38;5;124m'\u001b[39m, \u001b[38;5;28;01mNone\u001b[39;00m)\n\u001b[1;32m   1436\u001b[0m \u001b[38;5;28;01mif\u001b[39;00m linestyle \u001b[38;5;129;01mis\u001b[39;00m \u001b[38;5;28;01mNone\u001b[39;00m:\n",
      "File \u001b[0;32m/usr/local/lib/python3.10/dist-packages/pandas/core/series.py:4397\u001b[0m, in \u001b[0;36mSeries.map\u001b[0;34m(self, arg, na_action)\u001b[0m\n\u001b[1;32m   4318\u001b[0m \u001b[38;5;28;01mdef\u001b[39;00m \u001b[38;5;21mmap\u001b[39m(\n\u001b[1;32m   4319\u001b[0m     \u001b[38;5;28mself\u001b[39m,\n\u001b[1;32m   4320\u001b[0m     arg: Callable \u001b[38;5;241m|\u001b[39m Mapping \u001b[38;5;241m|\u001b[39m Series,\n\u001b[1;32m   4321\u001b[0m     na_action: Literal[\u001b[38;5;124m\"\u001b[39m\u001b[38;5;124mignore\u001b[39m\u001b[38;5;124m\"\u001b[39m] \u001b[38;5;241m|\u001b[39m \u001b[38;5;28;01mNone\u001b[39;00m \u001b[38;5;241m=\u001b[39m \u001b[38;5;28;01mNone\u001b[39;00m,\n\u001b[1;32m   4322\u001b[0m ) \u001b[38;5;241m-\u001b[39m\u001b[38;5;241m>\u001b[39m Series:\n\u001b[1;32m   4323\u001b[0m     \u001b[38;5;124;03m\"\"\"\u001b[39;00m\n\u001b[1;32m   4324\u001b[0m \u001b[38;5;124;03m    Map values of Series according to an input mapping or function.\u001b[39;00m\n\u001b[1;32m   4325\u001b[0m \n\u001b[0;32m   (...)\u001b[0m\n\u001b[1;32m   4395\u001b[0m \u001b[38;5;124;03m    dtype: object\u001b[39;00m\n\u001b[1;32m   4396\u001b[0m \u001b[38;5;124;03m    \"\"\"\u001b[39;00m\n\u001b[0;32m-> 4397\u001b[0m     new_values \u001b[38;5;241m=\u001b[39m \u001b[38;5;28;43mself\u001b[39;49m\u001b[38;5;241;43m.\u001b[39;49m\u001b[43m_map_values\u001b[49m\u001b[43m(\u001b[49m\u001b[43marg\u001b[49m\u001b[43m,\u001b[49m\u001b[43m \u001b[49m\u001b[43mna_action\u001b[49m\u001b[38;5;241;43m=\u001b[39;49m\u001b[43mna_action\u001b[49m\u001b[43m)\u001b[49m\n\u001b[1;32m   4398\u001b[0m     \u001b[38;5;28;01mreturn\u001b[39;00m \u001b[38;5;28mself\u001b[39m\u001b[38;5;241m.\u001b[39m_constructor(new_values, index\u001b[38;5;241m=\u001b[39m\u001b[38;5;28mself\u001b[39m\u001b[38;5;241m.\u001b[39mindex, copy\u001b[38;5;241m=\u001b[39m\u001b[38;5;28;01mFalse\u001b[39;00m)\u001b[38;5;241m.\u001b[39m__finalize__(\n\u001b[1;32m   4399\u001b[0m         \u001b[38;5;28mself\u001b[39m, method\u001b[38;5;241m=\u001b[39m\u001b[38;5;124m\"\u001b[39m\u001b[38;5;124mmap\u001b[39m\u001b[38;5;124m\"\u001b[39m\n\u001b[1;32m   4400\u001b[0m     )\n",
      "File \u001b[0;32m/usr/local/lib/python3.10/dist-packages/pandas/core/base.py:924\u001b[0m, in \u001b[0;36mIndexOpsMixin._map_values\u001b[0;34m(self, mapper, na_action)\u001b[0m\n\u001b[1;32m    921\u001b[0m         \u001b[38;5;28;01mraise\u001b[39;00m \u001b[38;5;167;01mValueError\u001b[39;00m(msg)\n\u001b[1;32m    923\u001b[0m \u001b[38;5;66;03m# mapper is a function\u001b[39;00m\n\u001b[0;32m--> 924\u001b[0m new_values \u001b[38;5;241m=\u001b[39m \u001b[43mmap_f\u001b[49m\u001b[43m(\u001b[49m\u001b[43mvalues\u001b[49m\u001b[43m,\u001b[49m\u001b[43m \u001b[49m\u001b[43mmapper\u001b[49m\u001b[43m)\u001b[49m\n\u001b[1;32m    926\u001b[0m \u001b[38;5;28;01mreturn\u001b[39;00m new_values\n",
      "File \u001b[0;32m/usr/local/lib/python3.10/dist-packages/pandas/_libs/lib.pyx:2834\u001b[0m, in \u001b[0;36mpandas._libs.lib.map_infer\u001b[0;34m()\u001b[0m\n",
      "File \u001b[0;32m~/.local/lib/python3.10/site-packages/geoplot/geoplot.py:1427\u001b[0m, in \u001b[0;36msankey.<locals>.SankeyPlot.draw.<locals>.parse_geom\u001b[0;34m(geom)\u001b[0m\n\u001b[1;32m   1425\u001b[0m     \u001b[38;5;28;01mreturn\u001b[39;00m geom\n\u001b[1;32m   1426\u001b[0m \u001b[38;5;28;01melif\u001b[39;00m \u001b[38;5;28misinstance\u001b[39m(geom, shapely\u001b[38;5;241m.\u001b[39mgeometry\u001b[38;5;241m.\u001b[39mMultiPoint):\n\u001b[0;32m-> 1427\u001b[0m     \u001b[38;5;28;01mreturn\u001b[39;00m \u001b[43mshapely\u001b[49m\u001b[38;5;241;43m.\u001b[39;49m\u001b[43mgeometry\u001b[49m\u001b[38;5;241;43m.\u001b[39;49m\u001b[43mLineString\u001b[49m\u001b[43m(\u001b[49m\u001b[43mgeom\u001b[49m\u001b[43m)\u001b[49m\n\u001b[1;32m   1428\u001b[0m \u001b[38;5;28;01melse\u001b[39;00m:\n\u001b[1;32m   1429\u001b[0m     \u001b[38;5;28;01mraise\u001b[39;00m \u001b[38;5;167;01mValueError\u001b[39;00m(\n\u001b[1;32m   1430\u001b[0m         \u001b[38;5;124mf\u001b[39m\u001b[38;5;124m'\u001b[39m\u001b[38;5;124mdf.geometry must contain LineString, MultiLineString, or MultiPoint \u001b[39m\u001b[38;5;124m'\u001b[39m\n\u001b[1;32m   1431\u001b[0m         \u001b[38;5;124mf\u001b[39m\u001b[38;5;124m'\u001b[39m\u001b[38;5;124mgeometries, but an instance of \u001b[39m\u001b[38;5;132;01m{\u001b[39;00m\u001b[38;5;28mtype\u001b[39m(geom)\u001b[38;5;132;01m}\u001b[39;00m\u001b[38;5;124m was found instead.\u001b[39m\u001b[38;5;124m'\u001b[39m\n\u001b[1;32m   1432\u001b[0m     )\n",
      "File \u001b[0;32m~/.local/lib/python3.10/site-packages/shapely/geometry/linestring.py:66\u001b[0m, in \u001b[0;36mLineString.__new__\u001b[0;34m(self, coordinates)\u001b[0m\n\u001b[1;32m     63\u001b[0m             \u001b[38;5;28;01melse\u001b[39;00m:\n\u001b[1;32m     64\u001b[0m                 \u001b[38;5;28;01mreturn\u001b[39;00m [\u001b[38;5;28mfloat\u001b[39m(c) \u001b[38;5;28;01mfor\u001b[39;00m c \u001b[38;5;129;01min\u001b[39;00m o]\n\u001b[0;32m---> 66\u001b[0m         coordinates \u001b[38;5;241m=\u001b[39m [_coords(o) \u001b[38;5;28;01mfor\u001b[39;00m o \u001b[38;5;129;01min\u001b[39;00m coordinates]\n\u001b[1;32m     68\u001b[0m \u001b[38;5;28;01mif\u001b[39;00m \u001b[38;5;28mlen\u001b[39m(coordinates) \u001b[38;5;241m==\u001b[39m \u001b[38;5;241m0\u001b[39m:\n\u001b[1;32m     69\u001b[0m     \u001b[38;5;66;03m# empty geometry\u001b[39;00m\n\u001b[1;32m     70\u001b[0m     \u001b[38;5;66;03m# TODO better constructor + should shapely.linestrings handle this?\u001b[39;00m\n\u001b[1;32m     71\u001b[0m     \u001b[38;5;28;01mreturn\u001b[39;00m shapely\u001b[38;5;241m.\u001b[39mfrom_wkt(\u001b[38;5;124m\"\u001b[39m\u001b[38;5;124mLINESTRING EMPTY\u001b[39m\u001b[38;5;124m\"\u001b[39m)\n",
      "\u001b[0;31mTypeError\u001b[0m: 'MultiPoint' object is not iterable"
     ]
    },
    {
     "data": {
      "image/png": "[encoded data removed]",
      "text/plain": [
       "<Figure size 800x600 with 1 Axes>"
      ]
     },
     "metadata": {},
     "output_type": "display_data"
    }
   ],
   "source": [
    "# Set the parameters for your sankey diagram\n",
    "# For reference, a sankey is a type of flow diagram: https://en.wikipedia.org/wiki/Sankey_diagram\n",
    "gplt.sankey(\n",
    "    napoleon_troop_movements,\n",
    "    scale='survivors', limits=(0.5, 45),\n",
    "    hue='direction',\n",
    "    cmap=cm\n",
    ")\n",
    "\n",
    "mls_list = list(mlines.geoms)\n",
    "print(mls_list)\n",
    "\n",
    "# See what your sankey will look like\n",
    "fig = plt.gcf()"
   ]
  },
  {
   "cell_type": "code",
   "execution_count": 13,
   "metadata": {},
   "outputs": [
    {
     "data": {
      "text/html": [
       "<iframe src=\"data:text/html;base64,PGhlYWQ+CiAgICA8c2NyaXB0IHNyYz0iaHR0cHM6Ly9jZG5qcy5jbG91ZGZsYXJlLmNvbS9hamF4L2xpYnMvbGVhZmxldC8wLjcuMy9sZWFmbGV0LmpzIj48L3NjcmlwdD4KICAgIDxsaW5rIHJlbD0ic3R5bGVzaGVldCIgaHJlZj0iaHR0cHM6Ly9jZG5qcy5jbG91ZGZsYXJlLmNvbS9hamF4L2xpYnMvbGVhZmxldC8wLjcuMy9sZWFmbGV0LmNzcyIgLz4KICA8c3R5bGU+CiAgICAjbWFwODkzN2I1ZWM2YjM1NDUxMWE1ODE4MGYwMjg4Nzk5ZTcgewogICAgICBoZWlnaHQ6MTAwJTsKICAgIH0KICA8L3N0eWxlPiAKPC9oZWFkPgo8Ym9keT4KICA8ZGl2IGlkPSJtYXA4OTM3YjVlYzZiMzU0NTExYTU4MTgwZjAyODg3OTllNyI+PC9kaXY+CjxzY3JpcHQgdGV4dD0idGV4dC9qYXZhc2NyaXB0Ij4KdmFyIG1hcCA9IEwubWFwKCdtYXA4OTM3YjVlYzZiMzU0NTExYTU4MTgwZjAyODg3OTllNycpOwpMLnRpbGVMYXllcigKICAiaHR0cDovL3tzfS50aWxlLm9wZW5zdHJlZXRtYXAub3JnL3t6fS97eH0ve3l9LnBuZyIsCiAge21heFpvb206MTksIGF0dHJpYnV0aW9uOiAnPGEgaHJlZj0iaHR0cHM6Ly9naXRodWIuY29tL2p3YXNzL21wbGxlYWZsZXQiPm1wbGxlYWZsZXQ8L2E+IHwgTWFwIGRhdGEgKGMpIDxhIGhyZWY9Imh0dHA6Ly9vcGVuc3RyZWV0bWFwLm9yZyI+T3BlblN0cmVldE1hcDwvYT4gY29udHJpYnV0b3JzJ30pLmFkZFRvKG1hcCk7CnZhciBnakRhdGEgPSB7InR5cGUiOiAiRmVhdHVyZUNvbGxlY3Rpb24iLCAiZmVhdHVyZXMiOiBbeyJ0eXBlIjogIkZlYXR1cmUiLCAiZ2VvbWV0cnkiOiB7InR5cGUiOiAiTGluZVN0cmluZyIsICJjb29yZGluYXRlcyI6IFtbMjUuNSwgNTQuNV0sIFsyNC41LCA1NS4wXV19LCAicHJvcGVydGllcyI6IHsiY29sb3IiOiAiI0Q3QzE3RSIsICJ3ZWlnaHQiOiA0NS4wLCAib3BhY2l0eSI6IDF9fSwgeyJ0eXBlIjogIkZlYXR1cmUiLCAiZ2VvbWV0cnkiOiB7InR5cGUiOiAiTGluZVN0cmluZyIsICJjb29yZGluYXRlcyI6IFtbMjQuNSwgNTUuMF0sIFsyNC4wLCA1NC45XV19LCAicHJvcGVydGllcyI6IHsiY29sb3IiOiAiI0Q3QzE3RSIsICJ3ZWlnaHQiOiA0NS4wLCAib3BhY2l0eSI6IDF9fSwgeyJ0eXBlIjogIkZlYXR1cmUiLCAiZ2VvbWV0cnkiOiB7InR5cGUiOiAiTGluZVN0cmluZyIsICJjb29yZGluYXRlcyI6IFtbMjYuMCwgNTQuN10sIFsyNS41LCA1NC41XV19LCAicHJvcGVydGllcyI6IHsiY29sb3IiOiAiI0Q3QzE3RSIsICJ3ZWlnaHQiOiA0Mi4zNTExOTA0NzYxOTA0NzQsICJvcGFjaXR5IjogMX19LCB7InR5cGUiOiAiRmVhdHVyZSIsICJnZW9tZXRyeSI6IHsidHlwZSI6ICJMaW5lU3RyaW5nIiwgImNvb3JkaW5hdGVzIjogW1syNy4wLCA1NC44XSwgWzI2LjAsIDU0LjddXX0sICJwcm9wZXJ0aWVzIjogeyJjb2xvciI6ICIjRDdDMTdFIiwgIndlaWdodCI6IDM5LjcwMjM4MDk1MjM4MDk1LCAib3BhY2l0eSI6IDF9fSwgeyJ0eXBlIjogIkZlYXR1cmUiLCAiZ2VvbWV0cnkiOiB7InR5cGUiOiAiTGluZVN0cmluZyIsICJjb29yZGluYXRlcyI6IFtbMjguMCwgNTQuOV0sIFsyNy4wLCA1NC44XV19LCAicHJvcGVydGllcyI6IHsiY29sb3IiOiAiI0Q3QzE3RSIsICJ3ZWlnaHQiOiAzNy4wNTM1NzE0Mjg1NzE0MiwgIm9wYWNpdHkiOiAxfX0sIHsidHlwZSI6ICJGZWF0dXJlIiwgImdlb21ldHJ5IjogeyJ0eXBlIjogIkxpbmVTdHJpbmciLCAiY29vcmRpbmF0ZXMiOiBbWzI4LjUsIDU1LjBdLCBbMjguMCwgNTQuOV1dfSwgInByb3BlcnRpZXMiOiB7ImNvbG9yIjogIiNEN0MxN0UiLCAid2VpZ2h0IjogMzEuNzU1OTUyMzgwOTUyMzgsICJvcGFjaXR5IjogMX19LCB7InR5cGUiOiAiRmVhdHVyZSIsICJnZW9tZXRyeSI6IHsidHlwZSI6ICJMaW5lU3RyaW5nIiwgImNvb3JkaW5hdGVzIjogW1syOS4wLCA1NS4xXSwgWzI4LjUsIDU1LjBdXX0sICJwcm9wZXJ0aWVzIjogeyJjb2xvciI6ICIjRDdDMTdFIiwgIndlaWdodCI6IDI3Ljc4MjczODA5NTIzODA5NSwgIm9wYWNpdHkiOiAxfX0sIHsidHlwZSI6ICJGZWF0dXJlIiwgImdlb21ldHJ5IjogeyJ0eXBlIjogIkxpbmVTdHJpbmciLCAiY29vcmRpbmF0ZXMiOiBbWzMwLjAsIDU1LjJdLCBbMjkuMCwgNTUuMV1dfSwgInByb3BlcnRpZXMiOiB7ImNvbG9yIjogIiNEN0MxN0UiLCAid2VpZ2h0IjogMjMuODA5NTIzODA5NTIzODA3LCAib3BhY2l0eSI6IDF9fSwgeyJ0eXBlIjogIkZlYXR1cmUiLCAiZ2VvbWV0cnkiOiB7InR5cGUiOiAiTGluZVN0cmluZyIsICJjb29yZGluYXRlcyI6IFtbMzAuMywgNTUuM10sIFszMC4wLCA1NS4yXV19LCAicHJvcGVydGllcyI6IHsiY29sb3IiOiAiI0Q3QzE3RSIsICJ3ZWlnaHQiOiAyMy4xNDczMjE0Mjg1NzE0MjcsICJvcGFjaXR5IjogMX19LCB7InR5cGUiOiAiRmVhdHVyZSIsICJnZW9tZXRyeSI6IHsidHlwZSI6ICJMaW5lU3RyaW5nIiwgImNvb3JkaW5hdGVzIjogW1szMi4wLCA1NC44XSwgWzMwLjMsIDU1LjNdXX0sICJwcm9wZXJ0aWVzIjogeyJjb2xvciI6ICIjRDdDMTdFIiwgIndlaWdodCI6IDE5LjE3NDEwNzE0Mjg1NzE0MiwgIm9wYWNpdHkiOiAxfX0sIHsidHlwZSI6ICJGZWF0dXJlIiwgImdlb21ldHJ5IjogeyJ0eXBlIjogIkxpbmVTdHJpbmciLCAiY29vcmRpbmF0ZXMiOiBbWzMzLjIsIDU0LjldLCBbMzIuMCwgNTQuOF1dfSwgInByb3BlcnRpZXMiOiB7ImNvbG9yIjogIiNEN0MxN0UiLCAid2VpZ2h0IjogMTguNTExOTA0NzYxOTA0NzYsICJvcGFjaXR5IjogMX19LCB7InR5cGUiOiAiRmVhdHVyZSIsICJnZW9tZXRyeSI6IHsidHlwZSI6ICJMaW5lU3RyaW5nIiwgImNvb3JkaW5hdGVzIjogW1szNC40LCA1NS41XSwgWzMzLjIsIDU0LjldXX0sICJwcm9wZXJ0aWVzIjogeyJjb2xvciI6ICIjRDdDMTdFIiwgIndlaWdodCI6IDE2LjgwMzQyMjYxOTA0NzYyLCAib3BhY2l0eSI6IDF9fSwgeyJ0eXBlIjogIkZlYXR1cmUiLCAiZ2VvbWV0cnkiOiB7InR5cGUiOiAiTGluZVN0cmluZyIsICJjb29yZGluYXRlcyI6IFtbMzcuNywgNTUuN10sIFszNy42LCA1NS44XV19LCAicHJvcGVydGllcyI6IHsiY29sb3IiOiAiIzI1MjUyNSIsICJ3ZWlnaHQiOiAxMy4yMTQyODU3MTQyODU3MTQsICJvcGFjaXR5IjogMX19LCB7InR5cGUiOiAiRmVhdHVyZSIsICJnZW9tZXRyeSI6IHsidHlwZSI6ICJMaW5lU3RyaW5nIiwgImNvb3JkaW5hdGVzIjogW1szNy42LCA1NS44XSwgWzM2LjAsIDU1LjVdXX0sICJwcm9wZXJ0aWVzIjogeyJjb2xvciI6ICIjRDdDMTdFIiwgIndlaWdodCI6IDEzLjIxNDI4NTcxNDI4NTcxNCwgIm9wYWNpdHkiOiAxfX0sIHsidHlwZSI6ICJGZWF0dXJlIiwgImdlb21ldHJ5IjogeyJ0eXBlIjogIkxpbmVTdHJpbmciLCAiY29vcmRpbmF0ZXMiOiBbWzM2LjAsIDU1LjVdLCBbMzUuNSwgNTUuNF1dfSwgInByb3BlcnRpZXMiOiB7ImNvbG9yIjogIiNEN0MxN0UiLCAid2VpZ2h0IjogMTMuMjE0Mjg1NzE0Mjg1NzE0LCAib3BhY2l0eSI6IDF9fSwgeyJ0eXBlIjogIkZlYXR1cmUiLCAiZ2VvbWV0cnkiOiB7InR5cGUiOiAiTGluZVN0cmluZyIsICJjb29yZGluYXRlcyI6IFtbMzUuNSwgNTUuNF0sIFszNC40LCA1NS41XV19LCAicHJvcGVydGllcyI6IHsiY29sb3IiOiAiI0Q3QzE3RSIsICJ3ZWlnaHQiOiAxMy4yMTQyODU3MTQyODU3MTQsICJvcGFjaXR5IjogMX19LCB7InR5cGUiOiAiRmVhdHVyZSIsICJnZW9tZXRyeSI6IHsidHlwZSI6ICJMaW5lU3RyaW5nIiwgImNvb3JkaW5hdGVzIjogW1szNy41LCA1NS43XSwgWzM3LjcsIDU1LjddXX0sICJwcm9wZXJ0aWVzIjogeyJjb2xvciI6ICIjMjUyNTI1IiwgIndlaWdodCI6IDEyLjk0OTQwNDc2MTkwNDc2MSwgIm9wYWNpdHkiOiAxfX0sIHsidHlwZSI6ICJGZWF0dXJlIiwgImdlb21ldHJ5IjogeyJ0eXBlIjogIkxpbmVTdHJpbmciLCAiY29vcmRpbmF0ZXMiOiBbWzM3LjAsIDU1LjBdLCBbMzcuNSwgNTUuN11dfSwgInByb3BlcnRpZXMiOiB7ImNvbG9yIjogIiMyNTI1MjUiLCAid2VpZ2h0IjogMTIuODE2OTY0Mjg1NzE0Mjg1LCAib3BhY2l0eSI6IDF9fSwgeyJ0eXBlIjogIkZlYXR1cmUiLCAiZ2VvbWV0cnkiOiB7InR5cGUiOiAiTGluZVN0cmluZyIsICJjb29yZGluYXRlcyI6IFtbMzYuOCwgNTUuMF0sIFszNy4wLCA1NS4wXV19LCAicHJvcGVydGllcyI6IHsiY29sb3IiOiAiIzI1MjUyNSIsICJ3ZWlnaHQiOiAxMi42ODQ1MjM4MDk1MjM4MDgsICJvcGFjaXR5IjogMX19LCB7InR5cGUiOiAiRmVhdHVyZSIsICJnZW9tZXRyeSI6IHsidHlwZSI6ICJMaW5lU3RyaW5nIiwgImNvb3JkaW5hdGVzIjogW1szNS40LCA1NS4zXSwgWzM2LjgsIDU1LjBdXX0sICJwcm9wZXJ0aWVzIjogeyJjb2xvciI6ICIjMjUyNTI1IiwgIndlaWdodCI6IDExLjQ5MjU1OTUyMzgwOTUyNCwgIm9wYWNpdHkiOiAxfX0sIHsidHlwZSI6ICJGZWF0dXJlIiwgImdlb21ldHJ5IjogeyJ0eXBlIjogIkxpbmVTdHJpbmciLCAiY29vcmRpbmF0ZXMiOiBbWzI1LjUsIDU0LjddLCBbMjQuNSwgNTUuMl1dfSwgInByb3BlcnRpZXMiOiB7ImNvbG9yIjogIiNEN0MxN0UiLCAid2VpZ2h0IjogNy45MTY2NjY2NjY2NjY2NjYsICJvcGFjaXR5IjogMX19LCB7InR5cGUiOiAiRmVhdHVyZSIsICJnZW9tZXRyeSI6IHsidHlwZSI6ICJMaW5lU3RyaW5nIiwgImNvb3JkaW5hdGVzIjogW1syNC41LCA1NS4yXSwgWzI0LjAsIDU1LjFdXX0sICJwcm9wZXJ0aWVzIjogeyJjb2xvciI6ICIjRDdDMTdFIiwgIndlaWdodCI6IDcuOTE2NjY2NjY2NjY2NjY2LCAib3BhY2l0eSI6IDF9fSwgeyJ0eXBlIjogIkZlYXR1cmUiLCAiZ2VvbWV0cnkiOiB7InR5cGUiOiAiTGluZVN0cmluZyIsICJjb29yZGluYXRlcyI6IFtbMjQuMCwgNTUuMV0sIFsyNC4xLCA1NC40XV19LCAicHJvcGVydGllcyI6IHsiY29sb3IiOiAiI0Q3QzE3RSIsICJ3ZWlnaHQiOiA3LjkxNjY2NjY2NjY2NjY2NiwgIm9wYWNpdHkiOiAxfX0sIHsidHlwZSI6ICJGZWF0dXJlIiwgImdlb21ldHJ5IjogeyJ0eXBlIjogIkxpbmVTdHJpbmciLCAiY29vcmRpbmF0ZXMiOiBbWzM0LjMsIDU1LjJdLCBbMzUuNCwgNTUuM11dfSwgInByb3BlcnRpZXMiOiB7ImNvbG9yIjogIiMyNTI1MjUiLCAid2VpZ2h0IjogNy4yNTQ0NjQyODU3MTQyODYsICJvcGFjaXR5IjogMX19LCB7InR5cGUiOiAiRmVhdHVyZSIsICJnZW9tZXRyeSI6IHsidHlwZSI6ICJMaW5lU3RyaW5nIiwgImNvb3JkaW5hdGVzIjogW1syNi42LCA1NS43XSwgWzI1LjUsIDU0LjddXX0sICJwcm9wZXJ0aWVzIjogeyJjb2xvciI6ICIjRDdDMTdFIiwgIndlaWdodCI6IDUuMjY3ODU3MTQyODU3MTQyLCAib3BhY2l0eSI6IDF9fSwgeyJ0eXBlIjogIkZlYXR1cmUiLCAiZ2VvbWV0cnkiOiB7InR5cGUiOiAiTGluZVN0cmluZyIsICJjb29yZGluYXRlcyI6IFtbMzMuMywgNTQuOF0sIFszNC4zLCA1NS4yXV19LCAicHJvcGVydGllcyI6IHsiY29sb3IiOiAiIzI1MjUyNSIsICJ3ZWlnaHQiOiA0Ljg3MDUzNTcxNDI4NTcxNCwgIm9wYWNpdHkiOiAxfX0sIHsidHlwZSI6ICJGZWF0dXJlIiwgImdlb21ldHJ5IjogeyJ0eXBlIjogIkxpbmVTdHJpbmciLCAiY29vcmRpbmF0ZXMiOiBbWzI4LjcsIDU1LjVdLCBbMjguNywgNTUuNV1dfSwgInByb3BlcnRpZXMiOiB7ImNvbG9yIjogIiMyNTI1MjUiLCAid2VpZ2h0IjogNC4zNDA3NzM4MDk1MjM4MDksICJvcGFjaXR5IjogMX19LCB7InR5cGUiOiAiRmVhdHVyZSIsICJnZW9tZXRyeSI6IHsidHlwZSI6ICJMaW5lU3RyaW5nIiwgImNvb3JkaW5hdGVzIjogW1syOC43LCA1NS41XSwgWzI3LjQsIDU1LjZdXX0sICJwcm9wZXJ0aWVzIjogeyJjb2xvciI6ICIjRDdDMTdFIiwgIndlaWdodCI6IDQuMzQwNzczODA5NTIzODA5LCAib3BhY2l0eSI6IDF9fSwgeyJ0eXBlIjogIkZlYXR1cmUiLCAiZ2VvbWV0cnkiOiB7InR5cGUiOiAiTGluZVN0cmluZyIsICJjb29yZGluYXRlcyI6IFtbMjcuNCwgNTUuNl0sIFsyNi42LCA1NS43XV19LCAicHJvcGVydGllcyI6IHsiY29sb3IiOiAiI0Q3QzE3RSIsICJ3ZWlnaHQiOiA0LjM0MDc3MzgwOTUyMzgwOSwgIm9wYWNpdHkiOiAxfX0sIHsidHlwZSI6ICJGZWF0dXJlIiwgImdlb21ldHJ5IjogeyJ0eXBlIjogIkxpbmVTdHJpbmciLCAiY29vcmRpbmF0ZXMiOiBbWzI4LjUsIDU0LjFdLCBbMjkuMiwgNTQuMl1dfSwgInByb3BlcnRpZXMiOiB7ImNvbG9yIjogIiMyNTI1MjUiLCAid2VpZ2h0IjogMy45NDM0NTIzODA5NTIzODEsICJvcGFjaXR5IjogMX19LCB7InR5cGUiOiAiRmVhdHVyZSIsICJnZW9tZXRyeSI6IHsidHlwZSI6ICJMaW5lU3RyaW5nIiwgImNvb3JkaW5hdGVzIjogW1syOS4yLCA1NC4yXSwgWzI4LjcsIDU1LjVdXX0sICJwcm9wZXJ0aWVzIjogeyJjb2xvciI6ICIjMjUyNTI1IiwgIndlaWdodCI6IDMuOTQzNDUyMzgwOTUyMzgxLCAib3BhY2l0eSI6IDF9fSwgeyJ0eXBlIjogIkZlYXR1cmUiLCAiZ2VvbWV0cnkiOiB7InR5cGUiOiAiTGluZVN0cmluZyIsICJjb29yZGluYXRlcyI6IFtbMjguMywgNTQuMl0sIFsyOC41LCA1NC4xXV19LCAicHJvcGVydGllcyI6IHsiY29sb3IiOiAiIzI1MjUyNSIsICJ3ZWlnaHQiOiAzLjY3ODU3MTQyODU3MTQyODQsICJvcGFjaXR5IjogMX19LCB7InR5cGUiOiAiRmVhdHVyZSIsICJnZW9tZXRyeSI6IHsidHlwZSI6ICJMaW5lU3RyaW5nIiwgImNvb3JkaW5hdGVzIjogW1szMi4wLCA1NC42XSwgWzMzLjMsIDU0LjhdXX0sICJwcm9wZXJ0aWVzIjogeyJjb2xvciI6ICIjMjUyNTI1IiwgIndlaWdodCI6IDMuMTQ4ODA5NTIzODA5NTIzNywgIm9wYWNpdHkiOiAxfX0sIHsidHlwZSI6ICJGZWF0dXJlIiwgImdlb21ldHJ5IjogeyJ0eXBlIjogIkxpbmVTdHJpbmciLCAiY29vcmRpbmF0ZXMiOiBbWzI0LjUsIDU1LjNdLCBbMjQuMCwgNTUuMl1dfSwgInByb3BlcnRpZXMiOiB7ImNvbG9yIjogIiNEN0MxN0UiLCAid2VpZ2h0IjogMi44ODM5Mjg1NzE0Mjg1NzEsICJvcGFjaXR5IjogMX19LCB7InR5cGUiOiAiRmVhdHVyZSIsICJnZW9tZXRyeSI6IHsidHlwZSI6ICJMaW5lU3RyaW5nIiwgImNvb3JkaW5hdGVzIjogW1syNC4wLCA1NS4yXSwgWzI4LjMsIDU0LjJdXX0sICJwcm9wZXJ0aWVzIjogeyJjb2xvciI6ICIjRDdDMTdFIiwgIndlaWdodCI6IDIuODgzOTI4NTcxNDI4NTcxLCAib3BhY2l0eSI6IDF9fSwgeyJ0eXBlIjogIkZlYXR1cmUiLCAiZ2VvbWV0cnkiOiB7InR5cGUiOiAiTGluZVN0cmluZyIsICJjb29yZGluYXRlcyI6IFtbMjcuNSwgNTQuNV0sIFsyOC4zLCA1NC4zXV19LCAicHJvcGVydGllcyI6IHsiY29sb3IiOiAiIzI1MjUyNSIsICJ3ZWlnaHQiOiAyLjYxOTA0NzYxOTA0NzYxOSwgIm9wYWNpdHkiOiAxfX0sIHsidHlwZSI6ICJGZWF0dXJlIiwgImdlb21ldHJ5IjogeyJ0eXBlIjogIkxpbmVTdHJpbmciLCAiY29vcmRpbmF0ZXMiOiBbWzI4LjMsIDU0LjNdLCBbMjguNSwgNTQuMl1dfSwgInByb3BlcnRpZXMiOiB7ImNvbG9yIjogIiMyNTI1MjUiLCAid2VpZ2h0IjogMi42MTkwNDc2MTkwNDc2MTksICJvcGFjaXR5IjogMX19LCB7InR5cGUiOiAiRmVhdHVyZSIsICJnZW9tZXRyeSI6IHsidHlwZSI6ICJMaW5lU3RyaW5nIiwgImNvb3JkaW5hdGVzIjogW1syOC41LCA1NC4yXSwgWzI5LjIsIDU0LjNdXX0sICJwcm9wZXJ0aWVzIjogeyJjb2xvciI6ICIjMjUyNTI1IiwgIndlaWdodCI6IDIuNjE5MDQ3NjE5MDQ3NjE5LCAib3BhY2l0eSI6IDF9fSwgeyJ0eXBlIjogIkZlYXR1cmUiLCAiZ2VvbWV0cnkiOiB7InR5cGUiOiAiTGluZVN0cmluZyIsICJjb29yZGluYXRlcyI6IFtbMjkuMiwgNTQuM10sIFszMC40LCA1NC40XV19LCAicHJvcGVydGllcyI6IHsiY29sb3IiOiAiIzI1MjUyNSIsICJ3ZWlnaHQiOiAyLjYxOTA0NzYxOTA0NzYxOSwgIm9wYWNpdHkiOiAxfX0sIHsidHlwZSI6ICJGZWF0dXJlIiwgImdlb21ldHJ5IjogeyJ0eXBlIjogIkxpbmVTdHJpbmciLCAiY29vcmRpbmF0ZXMiOiBbWzMwLjQsIDU0LjRdLCBbMzIuMCwgNTQuNl1dfSwgInByb3BlcnRpZXMiOiB7ImNvbG9yIjogIiMyNTI1MjUiLCAid2VpZ2h0IjogMi42MTkwNDc2MTkwNDc2MTksICJvcGFjaXR5IjogMX19LCB7InR5cGUiOiAiRmVhdHVyZSIsICJnZW9tZXRyeSI6IHsidHlwZSI6ICJMaW5lU3RyaW5nIiwgImNvb3JkaW5hdGVzIjogW1syNi40LCA1NC40XSwgWzI2LjgsIDU0LjNdXX0sICJwcm9wZXJ0aWVzIjogeyJjb2xvciI6ICIjMjUyNTI1IiwgIndlaWdodCI6IDEuODI0NDA0NzYxOTA0NzYxOSwgIm9wYWNpdHkiOiAxfX0sIHsidHlwZSI6ICJGZWF0dXJlIiwgImdlb21ldHJ5IjogeyJ0eXBlIjogIkxpbmVTdHJpbmciLCAiY29vcmRpbmF0ZXMiOiBbWzI2LjgsIDU0LjNdLCBbMjcuNSwgNTQuNV1dfSwgInByb3BlcnRpZXMiOiB7ImNvbG9yIjogIiMyNTI1MjUiLCAid2VpZ2h0IjogMS41NTk1MjM4MDk1MjM4MDk1LCAib3BhY2l0eSI6IDF9fSwgeyJ0eXBlIjogIkZlYXR1cmUiLCAiZ2VvbWV0cnkiOiB7InR5cGUiOiAiTGluZVN0cmluZyIsICJjb29yZGluYXRlcyI6IFtbMjUuMCwgNTQuNF0sIFsyNi40LCA1NC40XV19LCAicHJvcGVydGllcyI6IHsiY29sb3IiOiAiIzI1MjUyNSIsICJ3ZWlnaHQiOiAxLjAyOTc2MTkwNDc2MTkwNDcsICJvcGFjaXR5IjogMX19LCB7InR5cGUiOiAiRmVhdHVyZSIsICJnZW9tZXRyeSI6IHsidHlwZSI6ICJMaW5lU3RyaW5nIiwgImNvb3JkaW5hdGVzIjogW1syNC4xLCA1NC40XSwgWzI0LjIsIDU0LjRdXX0sICJwcm9wZXJ0aWVzIjogeyJjb2xvciI6ICIjMjUyNTI1IiwgIndlaWdodCI6IDAuNzY0ODgwOTUyMzgwOTUyMywgIm9wYWNpdHkiOiAxfX0sIHsidHlwZSI6ICJGZWF0dXJlIiwgImdlb21ldHJ5IjogeyJ0eXBlIjogIkxpbmVTdHJpbmciLCAiY29vcmRpbmF0ZXMiOiBbWzI0LjIsIDU0LjRdLCBbMjQuNiwgNTUuOF1dfSwgInByb3BlcnRpZXMiOiB7ImNvbG9yIjogIiMyNTI1MjUiLCAid2VpZ2h0IjogMC43NjQ4ODA5NTIzODA5NTIzLCAib3BhY2l0eSI6IDF9fSwgeyJ0eXBlIjogIkZlYXR1cmUiLCAiZ2VvbWV0cnkiOiB7InR5cGUiOiAiTGluZVN0cmluZyIsICJjb29yZGluYXRlcyI6IFtbMjQuNiwgNTUuOF0sIFsyNC42LCA1NS44XV19LCAicHJvcGVydGllcyI6IHsiY29sb3IiOiAiIzI1MjUyNSIsICJ3ZWlnaHQiOiAwLjc2NDg4MDk1MjM4MDk1MjMsICJvcGFjaXR5IjogMX19LCB7InR5cGUiOiAiRmVhdHVyZSIsICJnZW9tZXRyeSI6IHsidHlwZSI6ICJMaW5lU3RyaW5nIiwgImNvb3JkaW5hdGVzIjogW1syNC42LCA1NS44XSwgWzI0LjUsIDU1LjNdXX0sICJwcm9wZXJ0aWVzIjogeyJjb2xvciI6ICIjRDdDMTdFIiwgIndlaWdodCI6IDAuNzY0ODgwOTUyMzgwOTUyMywgIm9wYWNpdHkiOiAxfX0sIHsidHlwZSI6ICJGZWF0dXJlIiwgImdlb21ldHJ5IjogeyJ0eXBlIjogIkxpbmVTdHJpbmciLCAiY29vcmRpbmF0ZXMiOiBbWzI0LjEsIDU0LjRdLCBbMjQuMiwgNTQuNF1dfSwgInByb3BlcnRpZXMiOiB7ImNvbG9yIjogIiMyNTI1MjUiLCAid2VpZ2h0IjogMC41LCAib3BhY2l0eSI6IDF9fSwgeyJ0eXBlIjogIkZlYXR1cmUiLCAiZ2VvbWV0cnkiOiB7InR5cGUiOiAiTGluZVN0cmluZyIsICJjb29yZGluYXRlcyI6IFtbMjQuMiwgNTQuNF0sIFsyNC40LCA1NC40XV19LCAicHJvcGVydGllcyI6IHsiY29sb3IiOiAiIzI1MjUyNSIsICJ3ZWlnaHQiOiAwLjUsICJvcGFjaXR5IjogMX19LCB7InR5cGUiOiAiRmVhdHVyZSIsICJnZW9tZXRyeSI6IHsidHlwZSI6ICJMaW5lU3RyaW5nIiwgImNvb3JkaW5hdGVzIjogW1syNC40LCA1NC40XSwgWzI1LjAsIDU0LjRdXX0sICJwcm9wZXJ0aWVzIjogeyJjb2xvciI6ICIjMjUyNTI1IiwgIndlaWdodCI6IDAuNSwgIm9wYWNpdHkiOiAxfX1dfTsKCmlmIChnakRhdGEuZmVhdHVyZXMubGVuZ3RoICE9IDApIHsKICB2YXIgZ2ogPSBMLmdlb0pzb24oZ2pEYXRhLCB7CiAgICBzdHlsZTogZnVuY3Rpb24gKGZlYXR1cmUpIHsKICAgICAgcmV0dXJuIGZlYXR1cmUucHJvcGVydGllczsKICAgIH0sCiAgICBwb2ludFRvTGF5ZXI6IGZ1bmN0aW9uIChmZWF0dXJlLCBsYXRsbmcpIHsKICAgICAgdmFyIGljb24gPSBMLmRpdkljb24oeydodG1sJzogZmVhdHVyZS5wcm9wZXJ0aWVzLmh0bWwsIAogICAgICAgIGljb25BbmNob3I6IFtmZWF0dXJlLnByb3BlcnRpZXMuYW5jaG9yX3gsIAogICAgICAgICAgICAgICAgICAgICBmZWF0dXJlLnByb3BlcnRpZXMuYW5jaG9yX3ldLCAKICAgICAgICAgIGNsYXNzTmFtZTogJ2VtcHR5J30pOyAgLy8gV2hhdCBjYW4gSSBkbyBhYm91dCBlbXB0eT8KICAgICAgcmV0dXJuIEwubWFya2VyKGxhdGxuZywge2ljb246IGljb259KTsKICAgIH0KICB9KTsKICBnai5hZGRUbyhtYXApOwogIAogIG1hcC5maXRCb3VuZHMoZ2ouZ2V0Qm91bmRzKCkpOwp9IGVsc2UgewogIG1hcC5zZXRWaWV3KFswLCAwXSwgMSk7Cn0KPC9zY3JpcHQ+CjwvYm9keT4=\" width=\"100%\" height=\"360\"></iframe>"
      ],
      "text/plain": [
       "<IPython.core.display.HTML object>"
      ]
     },
     "execution_count": 13,
     "metadata": {},
     "output_type": "execute_result"
    }
   ],
   "source": [
    "mplleaflet.display(fig)"
   ]
  }
 ],
 "metadata": {
  "kernelspec": {
   "display_name": "Python 3 (ipykernel)",
   "language": "python",
   "name": "python3"
  },
  "language_info": {
   "codemirror_mode": {
    "name": "ipython",
    "version": 3
   },
   "file_extension": ".py",
   "mimetype": "text/x-python",
   "name": "python",
   "nbconvert_exporter": "python",
   "pygments_lexer": "ipython3",
   "version": "3.10.12"
  }
 },
 "nbformat": 4,
 "nbformat_minor": 4
}
