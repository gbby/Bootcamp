{
 "cells": [
  {
   "cell_type": "markdown",
   "id": "29ec5422-af35-4b9d-b5cb-17d04d1bf972",
   "metadata": {},
   "source": [
    "<span style=\"color:blue\">*Welcome to the Python Data Science and Visualization Basics tutorial. We're going to look at some very basic concepts related to data visualization in Python using the most common visualization libraries, including Matplotlib, Pandas, Seaborn, and more.* \n",
    "</span>"
   ]
  },
  {
   "cell_type": "markdown",
   "id": "44d7dd73-a20d-45d5-a875-e06f099910f7",
   "metadata": {},
   "source": [
    "<span style=\"color:indigo;font-weight:700;font-size:35px\">\n",
    "    MBAI Bootcamp Python Data Science and Visualization Basics Tutorial\n",
    "</span>"
   ]
  },
  {
   "cell_type": "markdown",
   "id": "5193151d-227e-4bad-8894-7c3596b2f42f",
   "metadata": {},
   "source": [
    "<span style=\"color:DarkOliveGreen;font-weight:700;font-size:25px\">\n",
    "    Today's Topics\n",
    "</span>\n",
    "\n",
    "- Python Data Science Basics\n",
    "- Python Visualization Libraries\n",
    "- Additional Resources"
   ]
  },
  {
   "cell_type": "markdown",
   "id": "455c946b-049a-4880-8e41-51f9c3372843",
   "metadata": {},
   "source": [
    "<p>When you first start doing data science and visualization in Python, it can very overwhelming. There are all sorts of different libraries for data processing, visualization, machine learning, and so on. Some of them are active... many are not!</p>\n",
    "<p><img style=\"float: center;margin:5px 20px 5px 1px\" src=\"Images/python.png\" width=\"900\"></p>"
   ]
  },
  {
   "cell_type": "markdown",
   "id": "8e63e50c-e3f5-4f0a-bdfe-1be3daf7c915",
   "metadata": {},
   "source": [
    "<span style=\"color:DarkOliveGreen;font-weight:700;font-size:25px\">\n",
    "    Today's Case Study: Canada's Consumer Price Index (CPI)\n",
    "</span>"
   ]
  },
  {
   "cell_type": "markdown",
   "id": "bc6c4106-c0c9-4bff-98e5-0749f0011352",
   "metadata": {},
   "source": [
    "<span style=\"color:blue\">*Before we start looking at specific Python libraries, we're going to collect some topical data.* \n",
    "</span>"
   ]
  },
  {
   "cell_type": "markdown",
   "id": "65bda1aa-0057-4461-a07c-ea73c72b2212",
   "metadata": {},
   "source": [
    "The Consumer Price Index (CPI) tracks changes in prices as experienced by Canadian consumers by comparing, through time, the cost of a fixed basket of goods and services. It reflects a weighted average of prices representative of aggregate consumer spending. The video below gives a good overview. "
   ]
  },
  {
   "cell_type": "code",
   "execution_count": 1,
   "id": "cf73c891-1855-4e5e-9d00-d201132272e7",
   "metadata": {},
   "outputs": [
    {
     "data": {
      "text/html": [
       "<p><iframe width=\"560\" height=\"315\" src=\"https://www.youtube.com/embed/qfKmJe3CK6E\" title=\"YouTube video player\" frameborder=\"0\" allow=\"accelerometer; autoplay; clipboard-write; encrypted-media; gyroscope; picture-in-picture\" allowfullscreen></iframe></p>\n"
      ],
      "text/plain": [
       "<IPython.core.display.HTML object>"
      ]
     },
     "metadata": {},
     "output_type": "display_data"
    }
   ],
   "source": [
    "%%html\n",
    "<p><iframe width=\"560\" height=\"315\" src=\"https://www.youtube.com/embed/qfKmJe3CK6E\" title=\"YouTube video player\" frameborder=\"0\" allow=\"accelerometer; autoplay; clipboard-write; encrypted-media; gyroscope; picture-in-picture\" allowfullscreen></iframe></p>"
   ]
  },
  {
   "cell_type": "markdown",
   "id": "632b6e67-d392-4361-b688-59ddc442e79d",
   "metadata": {},
   "source": [
    "There are a few steps we need to take...\n",
    "\n",
    "- Go to Stats Canada's CPI portal and read about the data: https://www.statcan.gc.ca/eng/subjects-start/prices_and_price_indexes/consumer_price_indexes\n",
    "- Try out the visualization tool: https://www150.statcan.gc.ca/n1/pub/71-607-x/71-607-x2018016-eng.htm\n",
    "- Access the specific dataset we're going to use: https://www150.statcan.gc.ca/t1/tbl1/en/tv.action?pid=1810000501\n",
    "- Adjust and apply date range: 2000-2021\n",
    "- Download .csv (as displayed)"
   ]
  },
  {
   "cell_type": "markdown",
   "id": "0b96bb17-6998-4497-9e29-7a5e0a8790f7",
   "metadata": {},
   "source": [
    "<span style=\"color:DarkOliveGreen;font-weight:700;font-size:25px\">\n",
    "    pandas for Data Science\n",
    "</span>"
   ]
  },
  {
   "cell_type": "markdown",
   "id": "2da9af43-d15a-4f9f-b677-bf89794ea603",
   "metadata": {},
   "source": [
    "<p><img style=\"float: center;margin:5px 20px 5px 1px\" src=\"Images/pandas.svg\" width=\"900\"></p>\n",
    "<p>Let's start with arguably the most important tool in your Python Swiss Army knife: pandas. pandas is a fast, powerful, and flexible Python software library for data manipulation and analysis. It offers data structures and operations for manipulating numerical tables and time series. Think of it like Excel on steroids. You will use it extensively in this program.</p> "
   ]
  },
  {
   "cell_type": "code",
   "execution_count": 2,
   "id": "dcd0331e-ce93-4496-ac35-6f3d9418a24e",
   "metadata": {},
   "outputs": [],
   "source": [
    "# import pandas\n",
    "import pandas as pd"
   ]
  },
  {
   "cell_type": "code",
   "execution_count": 3,
   "id": "4b2ff290-8407-4e57-8c39-ddc6c686c069",
   "metadata": {},
   "outputs": [],
   "source": [
    "# load the dataset\n",
    "df = pd.read_csv(\"./Data/1810000501-eng.csv\")"
   ]
  },
  {
   "cell_type": "code",
   "execution_count": 4,
   "id": "9447a3ff-337f-4e85-8f09-cbb97aa52712",
   "metadata": {},
   "outputs": [
    {
     "data": {
      "text/html": [
       "<div>\n",
       "<style scoped>\n",
       "    .dataframe tbody tr th:only-of-type {\n",
       "        vertical-align: middle;\n",
       "    }\n",
       "\n",
       "    .dataframe tbody tr th {\n",
       "        vertical-align: top;\n",
       "    }\n",
       "\n",
       "    .dataframe thead th {\n",
       "        text-align: right;\n",
       "    }\n",
       "</style>\n",
       "<table border=\"1\" class=\"dataframe\">\n",
       "  <thead>\n",
       "    <tr style=\"text-align: right;\">\n",
       "      <th></th>\n",
       "      <th>Products and product groups 4</th>\n",
       "      <th>2000</th>\n",
       "      <th>2001</th>\n",
       "      <th>2002</th>\n",
       "      <th>2003</th>\n",
       "      <th>2004</th>\n",
       "      <th>2005</th>\n",
       "      <th>2006</th>\n",
       "      <th>2007</th>\n",
       "      <th>2008</th>\n",
       "      <th>...</th>\n",
       "      <th>2012</th>\n",
       "      <th>2013</th>\n",
       "      <th>2014</th>\n",
       "      <th>2015</th>\n",
       "      <th>2016</th>\n",
       "      <th>2017</th>\n",
       "      <th>2018</th>\n",
       "      <th>2019</th>\n",
       "      <th>2020</th>\n",
       "      <th>2021</th>\n",
       "    </tr>\n",
       "  </thead>\n",
       "  <tbody>\n",
       "    <tr>\n",
       "      <th>0</th>\n",
       "      <td>All-items</td>\n",
       "      <td>95.4</td>\n",
       "      <td>97.8</td>\n",
       "      <td>100</td>\n",
       "      <td>102.8</td>\n",
       "      <td>104.7</td>\n",
       "      <td>107.0</td>\n",
       "      <td>109.1</td>\n",
       "      <td>111.5</td>\n",
       "      <td>114.1</td>\n",
       "      <td>...</td>\n",
       "      <td>121.7</td>\n",
       "      <td>122.8</td>\n",
       "      <td>125.2</td>\n",
       "      <td>126.6</td>\n",
       "      <td>128.4</td>\n",
       "      <td>130.4</td>\n",
       "      <td>133.4</td>\n",
       "      <td>136.0</td>\n",
       "      <td>137.0</td>\n",
       "      <td>141.6</td>\n",
       "    </tr>\n",
       "    <tr>\n",
       "      <th>1</th>\n",
       "      <td>Food 5</td>\n",
       "      <td>93.3</td>\n",
       "      <td>97.4</td>\n",
       "      <td>100</td>\n",
       "      <td>101.7</td>\n",
       "      <td>103.8</td>\n",
       "      <td>106.4</td>\n",
       "      <td>108.9</td>\n",
       "      <td>111.8</td>\n",
       "      <td>115.7</td>\n",
       "      <td>...</td>\n",
       "      <td>130.8</td>\n",
       "      <td>132.4</td>\n",
       "      <td>135.5</td>\n",
       "      <td>140.5</td>\n",
       "      <td>142.6</td>\n",
       "      <td>142.7</td>\n",
       "      <td>145.3</td>\n",
       "      <td>150.2</td>\n",
       "      <td>153.7</td>\n",
       "      <td>157.5</td>\n",
       "    </tr>\n",
       "    <tr>\n",
       "      <th>2</th>\n",
       "      <td>Shelter 6</td>\n",
       "      <td>95.6</td>\n",
       "      <td>99.1</td>\n",
       "      <td>100</td>\n",
       "      <td>103.2</td>\n",
       "      <td>105.8</td>\n",
       "      <td>109.2</td>\n",
       "      <td>113.1</td>\n",
       "      <td>116.9</td>\n",
       "      <td>122.0</td>\n",
       "      <td>...</td>\n",
       "      <td>127.1</td>\n",
       "      <td>128.7</td>\n",
       "      <td>132.2</td>\n",
       "      <td>133.7</td>\n",
       "      <td>135.8</td>\n",
       "      <td>138.1</td>\n",
       "      <td>140.9</td>\n",
       "      <td>144.5</td>\n",
       "      <td>147.0</td>\n",
       "      <td>152.7</td>\n",
       "    </tr>\n",
       "    <tr>\n",
       "      <th>3</th>\n",
       "      <td>Household operations, furnishings and equipment</td>\n",
       "      <td>96.7</td>\n",
       "      <td>98.6</td>\n",
       "      <td>100</td>\n",
       "      <td>100.7</td>\n",
       "      <td>101.2</td>\n",
       "      <td>101.7</td>\n",
       "      <td>102.2</td>\n",
       "      <td>103.2</td>\n",
       "      <td>104.6</td>\n",
       "      <td>...</td>\n",
       "      <td>113.0</td>\n",
       "      <td>114.4</td>\n",
       "      <td>116.6</td>\n",
       "      <td>119.7</td>\n",
       "      <td>121.7</td>\n",
       "      <td>121.9</td>\n",
       "      <td>123.2</td>\n",
       "      <td>123.6</td>\n",
       "      <td>123.8</td>\n",
       "      <td>125.2</td>\n",
       "    </tr>\n",
       "    <tr>\n",
       "      <th>4</th>\n",
       "      <td>Clothing and footwear</td>\n",
       "      <td>100.3</td>\n",
       "      <td>100.7</td>\n",
       "      <td>100</td>\n",
       "      <td>98.2</td>\n",
       "      <td>98.0</td>\n",
       "      <td>97.6</td>\n",
       "      <td>95.8</td>\n",
       "      <td>95.7</td>\n",
       "      <td>93.8</td>\n",
       "      <td>...</td>\n",
       "      <td>92.0</td>\n",
       "      <td>92.1</td>\n",
       "      <td>93.2</td>\n",
       "      <td>94.6</td>\n",
       "      <td>94.4</td>\n",
       "      <td>93.7</td>\n",
       "      <td>94.5</td>\n",
       "      <td>96.1</td>\n",
       "      <td>94.4</td>\n",
       "      <td>94.1</td>\n",
       "    </tr>\n",
       "  </tbody>\n",
       "</table>\n",
       "<p>5 rows × 23 columns</p>\n",
       "</div>"
      ],
      "text/plain": [
       "                     Products and product groups 4   2000   2001  2002   2003  \\\n",
       "0                                        All-items   95.4   97.8   100  102.8   \n",
       "1                                           Food 5   93.3   97.4   100  101.7   \n",
       "2                                        Shelter 6   95.6   99.1   100  103.2   \n",
       "3  Household operations, furnishings and equipment   96.7   98.6   100  100.7   \n",
       "4                            Clothing and footwear  100.3  100.7   100   98.2   \n",
       "\n",
       "    2004   2005   2006   2007   2008  ...   2012   2013   2014   2015   2016  \\\n",
       "0  104.7  107.0  109.1  111.5  114.1  ...  121.7  122.8  125.2  126.6  128.4   \n",
       "1  103.8  106.4  108.9  111.8  115.7  ...  130.8  132.4  135.5  140.5  142.6   \n",
       "2  105.8  109.2  113.1  116.9  122.0  ...  127.1  128.7  132.2  133.7  135.8   \n",
       "3  101.2  101.7  102.2  103.2  104.6  ...  113.0  114.4  116.6  119.7  121.7   \n",
       "4   98.0   97.6   95.8   95.7   93.8  ...   92.0   92.1   93.2   94.6   94.4   \n",
       "\n",
       "    2017   2018   2019   2020   2021  \n",
       "0  130.4  133.4  136.0  137.0  141.6  \n",
       "1  142.7  145.3  150.2  153.7  157.5  \n",
       "2  138.1  140.9  144.5  147.0  152.7  \n",
       "3  121.9  123.2  123.6  123.8  125.2  \n",
       "4   93.7   94.5   96.1   94.4   94.1  \n",
       "\n",
       "[5 rows x 23 columns]"
      ]
     },
     "execution_count": 4,
     "metadata": {},
     "output_type": "execute_result"
    }
   ],
   "source": [
    "df.head()"
   ]
  },
  {
   "cell_type": "code",
   "execution_count": 5,
   "id": "fecae56a-9568-4220-a3e8-35c5c6a961bf",
   "metadata": {},
   "outputs": [
    {
     "data": {
      "text/html": [
       "<div>\n",
       "<style scoped>\n",
       "    .dataframe tbody tr th:only-of-type {\n",
       "        vertical-align: middle;\n",
       "    }\n",
       "\n",
       "    .dataframe tbody tr th {\n",
       "        vertical-align: top;\n",
       "    }\n",
       "\n",
       "    .dataframe thead th {\n",
       "        text-align: right;\n",
       "    }\n",
       "</style>\n",
       "<table border=\"1\" class=\"dataframe\">\n",
       "  <thead>\n",
       "    <tr style=\"text-align: right;\">\n",
       "      <th>Products and product groups 4</th>\n",
       "      <th>All-items</th>\n",
       "      <th>Food 5</th>\n",
       "      <th>Shelter 6</th>\n",
       "      <th>Household operations, furnishings and equipment</th>\n",
       "      <th>Clothing and footwear</th>\n",
       "      <th>Transportation</th>\n",
       "      <th>Gasoline</th>\n",
       "      <th>Health and personal care</th>\n",
       "      <th>Recreation, education and reading</th>\n",
       "      <th>Alcoholic beverages, tobacco products and recreational cannabis</th>\n",
       "      <th>All-items excluding food and energy 7</th>\n",
       "      <th>All-items excluding energy 7</th>\n",
       "      <th>Energy 7</th>\n",
       "      <th>Goods 8</th>\n",
       "      <th>Services 9</th>\n",
       "    </tr>\n",
       "  </thead>\n",
       "  <tbody>\n",
       "    <tr>\n",
       "      <th>2000</th>\n",
       "      <td>95.4</td>\n",
       "      <td>93.3</td>\n",
       "      <td>95.6</td>\n",
       "      <td>96.7</td>\n",
       "      <td>100.3</td>\n",
       "      <td>97.2</td>\n",
       "      <td>103.5</td>\n",
       "      <td>97.0</td>\n",
       "      <td>97.0</td>\n",
       "      <td>79.0</td>\n",
       "      <td>95.5</td>\n",
       "      <td>95.0</td>\n",
       "      <td>98.8</td>\n",
       "      <td>96.0</td>\n",
       "      <td>94.8</td>\n",
       "    </tr>\n",
       "    <tr>\n",
       "      <th>2001</th>\n",
       "      <td>97.8</td>\n",
       "      <td>97.4</td>\n",
       "      <td>99.1</td>\n",
       "      <td>98.6</td>\n",
       "      <td>100.7</td>\n",
       "      <td>97.3</td>\n",
       "      <td>100.8</td>\n",
       "      <td>98.9</td>\n",
       "      <td>98.4</td>\n",
       "      <td>85.0</td>\n",
       "      <td>97.3</td>\n",
       "      <td>97.3</td>\n",
       "      <td>102.0</td>\n",
       "      <td>98.4</td>\n",
       "      <td>97.1</td>\n",
       "    </tr>\n",
       "    <tr>\n",
       "      <th>2002</th>\n",
       "      <td>100.0</td>\n",
       "      <td>100.0</td>\n",
       "      <td>100.0</td>\n",
       "      <td>100.0</td>\n",
       "      <td>100.0</td>\n",
       "      <td>100.0</td>\n",
       "      <td>100.0</td>\n",
       "      <td>100.0</td>\n",
       "      <td>100.0</td>\n",
       "      <td>100.0</td>\n",
       "      <td>100.0</td>\n",
       "      <td>100.0</td>\n",
       "      <td>100.0</td>\n",
       "      <td>100.0</td>\n",
       "      <td>100.0</td>\n",
       "    </tr>\n",
       "    <tr>\n",
       "      <th>2003</th>\n",
       "      <td>102.8</td>\n",
       "      <td>101.7</td>\n",
       "      <td>103.2</td>\n",
       "      <td>100.7</td>\n",
       "      <td>98.2</td>\n",
       "      <td>105.2</td>\n",
       "      <td>106.4</td>\n",
       "      <td>101.4</td>\n",
       "      <td>100.8</td>\n",
       "      <td>110.1</td>\n",
       "      <td>102.5</td>\n",
       "      <td>102.4</td>\n",
       "      <td>107.9</td>\n",
       "      <td>101.9</td>\n",
       "      <td>103.6</td>\n",
       "    </tr>\n",
       "    <tr>\n",
       "      <th>2004</th>\n",
       "      <td>104.7</td>\n",
       "      <td>103.8</td>\n",
       "      <td>105.8</td>\n",
       "      <td>101.2</td>\n",
       "      <td>98.0</td>\n",
       "      <td>107.7</td>\n",
       "      <td>117.6</td>\n",
       "      <td>102.8</td>\n",
       "      <td>101.1</td>\n",
       "      <td>116.0</td>\n",
       "      <td>103.9</td>\n",
       "      <td>103.8</td>\n",
       "      <td>115.2</td>\n",
       "      <td>103.4</td>\n",
       "      <td>105.9</td>\n",
       "    </tr>\n",
       "  </tbody>\n",
       "</table>\n",
       "</div>"
      ],
      "text/plain": [
       "Products and product groups 4  All-items  Food 5  Shelter 6  \\\n",
       "2000                                95.4    93.3       95.6   \n",
       "2001                                97.8    97.4       99.1   \n",
       "2002                               100.0   100.0      100.0   \n",
       "2003                               102.8   101.7      103.2   \n",
       "2004                               104.7   103.8      105.8   \n",
       "\n",
       "Products and product groups 4  Household operations, furnishings and equipment  \\\n",
       "2000                                                                      96.7   \n",
       "2001                                                                      98.6   \n",
       "2002                                                                     100.0   \n",
       "2003                                                                     100.7   \n",
       "2004                                                                     101.2   \n",
       "\n",
       "Products and product groups 4  Clothing and footwear  Transportation  \\\n",
       "2000                                           100.3            97.2   \n",
       "2001                                           100.7            97.3   \n",
       "2002                                           100.0           100.0   \n",
       "2003                                            98.2           105.2   \n",
       "2004                                            98.0           107.7   \n",
       "\n",
       "Products and product groups 4  Gasoline  Health and personal care  \\\n",
       "2000                              103.5                      97.0   \n",
       "2001                              100.8                      98.9   \n",
       "2002                              100.0                     100.0   \n",
       "2003                              106.4                     101.4   \n",
       "2004                              117.6                     102.8   \n",
       "\n",
       "Products and product groups 4  Recreation, education and reading  \\\n",
       "2000                                                        97.0   \n",
       "2001                                                        98.4   \n",
       "2002                                                       100.0   \n",
       "2003                                                       100.8   \n",
       "2004                                                       101.1   \n",
       "\n",
       "Products and product groups 4  Alcoholic beverages, tobacco products and recreational cannabis  \\\n",
       "2000                                                                        79.0                 \n",
       "2001                                                                        85.0                 \n",
       "2002                                                                       100.0                 \n",
       "2003                                                                       110.1                 \n",
       "2004                                                                       116.0                 \n",
       "\n",
       "Products and product groups 4  All-items excluding food and energy 7  \\\n",
       "2000                                                            95.5   \n",
       "2001                                                            97.3   \n",
       "2002                                                           100.0   \n",
       "2003                                                           102.5   \n",
       "2004                                                           103.9   \n",
       "\n",
       "Products and product groups 4  All-items excluding energy 7  Energy 7  \\\n",
       "2000                                                   95.0      98.8   \n",
       "2001                                                   97.3     102.0   \n",
       "2002                                                  100.0     100.0   \n",
       "2003                                                  102.4     107.9   \n",
       "2004                                                  103.8     115.2   \n",
       "\n",
       "Products and product groups 4  Goods 8  Services 9  \n",
       "2000                              96.0        94.8  \n",
       "2001                              98.4        97.1  \n",
       "2002                             100.0       100.0  \n",
       "2003                             101.9       103.6  \n",
       "2004                             103.4       105.9  "
      ]
     },
     "execution_count": 5,
     "metadata": {},
     "output_type": "execute_result"
    }
   ],
   "source": [
    "df_transposed = df.set_index('Products and product groups 4').T\n",
    "df_transposed.head()"
   ]
  },
  {
   "cell_type": "markdown",
   "id": "5604853c-87bd-48f1-84f2-354dc8788a30",
   "metadata": {},
   "source": [
    "We can also use the Stats Can Python API to get the data. There is a convenient Stats Can library that you can read more about here: https://stats-can.readthedocs.io/en/latest/"
   ]
  },
  {
   "cell_type": "code",
   "execution_count": 6,
   "id": "006d6dbe-89f8-4e93-a792-e59a6e33806a",
   "metadata": {},
   "outputs": [],
   "source": [
    "from stats_can import StatsCan\n",
    "sc = StatsCan()"
   ]
  },
  {
   "cell_type": "code",
   "execution_count": 7,
   "id": "05e0328e-b774-4b99-8efd-52875112eaaa",
   "metadata": {},
   "outputs": [],
   "source": [
    "# declare a data folder\n",
    "sc = StatsCan(data_folder=\"./Data\")"
   ]
  },
  {
   "cell_type": "code",
   "execution_count": 8,
   "id": "600ec21a-7800-4f0d-a41e-920b739486cc",
   "metadata": {},
   "outputs": [
    {
     "data": {
      "text/html": [
       "<div>\n",
       "<style scoped>\n",
       "    .dataframe tbody tr th:only-of-type {\n",
       "        vertical-align: middle;\n",
       "    }\n",
       "\n",
       "    .dataframe tbody tr th {\n",
       "        vertical-align: top;\n",
       "    }\n",
       "\n",
       "    .dataframe thead th {\n",
       "        text-align: right;\n",
       "    }\n",
       "</style>\n",
       "<table border=\"1\" class=\"dataframe\">\n",
       "  <thead>\n",
       "    <tr style=\"text-align: right;\">\n",
       "      <th></th>\n",
       "      <th>REF_DATE</th>\n",
       "      <th>GEO</th>\n",
       "      <th>DGUID</th>\n",
       "      <th>Products and product groups</th>\n",
       "      <th>UOM</th>\n",
       "      <th>UOM_ID</th>\n",
       "      <th>SCALAR_FACTOR</th>\n",
       "      <th>SCALAR_ID</th>\n",
       "      <th>VECTOR</th>\n",
       "      <th>COORDINATE</th>\n",
       "      <th>VALUE</th>\n",
       "      <th>STATUS</th>\n",
       "      <th>SYMBOL</th>\n",
       "      <th>TERMINATED</th>\n",
       "      <th>DECIMALS</th>\n",
       "    </tr>\n",
       "  </thead>\n",
       "  <tbody>\n",
       "    <tr>\n",
       "      <th>0</th>\n",
       "      <td>1914-01-01</td>\n",
       "      <td>Canada</td>\n",
       "      <td>2016A000011124</td>\n",
       "      <td>All-items</td>\n",
       "      <td>2002=100</td>\n",
       "      <td>17</td>\n",
       "      <td>units</td>\n",
       "      <td>0</td>\n",
       "      <td>v41693271</td>\n",
       "      <td>2.2</td>\n",
       "      <td>6.0</td>\n",
       "      <td>NaN</td>\n",
       "      <td>NaN</td>\n",
       "      <td>NaN</td>\n",
       "      <td>1</td>\n",
       "    </tr>\n",
       "    <tr>\n",
       "      <th>1</th>\n",
       "      <td>1914-01-01</td>\n",
       "      <td>Canada</td>\n",
       "      <td>2016A000011124</td>\n",
       "      <td>All-items (1992=100)</td>\n",
       "      <td>1992=100</td>\n",
       "      <td>7</td>\n",
       "      <td>units</td>\n",
       "      <td>0</td>\n",
       "      <td>v41713433</td>\n",
       "      <td>2.309</td>\n",
       "      <td>7.2</td>\n",
       "      <td>NaN</td>\n",
       "      <td>NaN</td>\n",
       "      <td>t</td>\n",
       "      <td>1</td>\n",
       "    </tr>\n",
       "    <tr>\n",
       "      <th>2</th>\n",
       "      <td>1914-01-01</td>\n",
       "      <td>Canada</td>\n",
       "      <td>2016A000011124</td>\n",
       "      <td>Goods and services</td>\n",
       "      <td>2002=100</td>\n",
       "      <td>17</td>\n",
       "      <td>units</td>\n",
       "      <td>0</td>\n",
       "      <td>v41693519</td>\n",
       "      <td>2.273</td>\n",
       "      <td>6.0</td>\n",
       "      <td>NaN</td>\n",
       "      <td>NaN</td>\n",
       "      <td>t</td>\n",
       "      <td>1</td>\n",
       "    </tr>\n",
       "    <tr>\n",
       "      <th>3</th>\n",
       "      <td>1915-01-01</td>\n",
       "      <td>Canada</td>\n",
       "      <td>2016A000011124</td>\n",
       "      <td>All-items</td>\n",
       "      <td>2002=100</td>\n",
       "      <td>17</td>\n",
       "      <td>units</td>\n",
       "      <td>0</td>\n",
       "      <td>v41693271</td>\n",
       "      <td>2.2</td>\n",
       "      <td>6.1</td>\n",
       "      <td>NaN</td>\n",
       "      <td>NaN</td>\n",
       "      <td>NaN</td>\n",
       "      <td>1</td>\n",
       "    </tr>\n",
       "    <tr>\n",
       "      <th>4</th>\n",
       "      <td>1915-01-01</td>\n",
       "      <td>Canada</td>\n",
       "      <td>2016A000011124</td>\n",
       "      <td>All-items (1992=100)</td>\n",
       "      <td>1992=100</td>\n",
       "      <td>7</td>\n",
       "      <td>units</td>\n",
       "      <td>0</td>\n",
       "      <td>v41713433</td>\n",
       "      <td>2.309</td>\n",
       "      <td>7.3</td>\n",
       "      <td>NaN</td>\n",
       "      <td>NaN</td>\n",
       "      <td>t</td>\n",
       "      <td>1</td>\n",
       "    </tr>\n",
       "  </tbody>\n",
       "</table>\n",
       "</div>"
      ],
      "text/plain": [
       "    REF_DATE     GEO           DGUID Products and product groups       UOM  \\\n",
       "0 1914-01-01  Canada  2016A000011124                   All-items  2002=100   \n",
       "1 1914-01-01  Canada  2016A000011124        All-items (1992=100)  1992=100   \n",
       "2 1914-01-01  Canada  2016A000011124          Goods and services  2002=100   \n",
       "3 1915-01-01  Canada  2016A000011124                   All-items  2002=100   \n",
       "4 1915-01-01  Canada  2016A000011124        All-items (1992=100)  1992=100   \n",
       "\n",
       "  UOM_ID SCALAR_FACTOR SCALAR_ID     VECTOR COORDINATE  VALUE STATUS SYMBOL  \\\n",
       "0     17         units         0  v41693271        2.2    6.0    NaN    NaN   \n",
       "1      7         units         0  v41713433      2.309    7.2    NaN    NaN   \n",
       "2     17         units         0  v41693519      2.273    6.0    NaN    NaN   \n",
       "3     17         units         0  v41693271        2.2    6.1    NaN    NaN   \n",
       "4      7         units         0  v41713433      2.309    7.3    NaN    NaN   \n",
       "\n",
       "  TERMINATED DECIMALS  \n",
       "0        NaN        1  \n",
       "1          t        1  \n",
       "2          t        1  \n",
       "3        NaN        1  \n",
       "4          t        1  "
      ]
     },
     "execution_count": 8,
     "metadata": {},
     "output_type": "execute_result"
    }
   ],
   "source": [
    "# collect the table you want\n",
    "df = sc.table_to_df(\"18-10-0005-01\")\n",
    "df.head()"
   ]
  },
  {
   "cell_type": "code",
   "execution_count": 9,
   "id": "371e7d97-6b44-43bf-9c71-c95d3fd7eb92",
   "metadata": {},
   "outputs": [
    {
     "data": {
      "text/html": [
       "<div>\n",
       "<style scoped>\n",
       "    .dataframe tbody tr th:only-of-type {\n",
       "        vertical-align: middle;\n",
       "    }\n",
       "\n",
       "    .dataframe tbody tr th {\n",
       "        vertical-align: top;\n",
       "    }\n",
       "\n",
       "    .dataframe thead th {\n",
       "        text-align: right;\n",
       "    }\n",
       "</style>\n",
       "<table border=\"1\" class=\"dataframe\">\n",
       "  <thead>\n",
       "    <tr style=\"text-align: right;\">\n",
       "      <th></th>\n",
       "      <th>REF_DATE</th>\n",
       "      <th>GEO</th>\n",
       "      <th>DGUID</th>\n",
       "      <th>Products and product groups</th>\n",
       "      <th>UOM</th>\n",
       "      <th>UOM_ID</th>\n",
       "      <th>SCALAR_FACTOR</th>\n",
       "      <th>SCALAR_ID</th>\n",
       "      <th>VECTOR</th>\n",
       "      <th>COORDINATE</th>\n",
       "      <th>VALUE</th>\n",
       "      <th>STATUS</th>\n",
       "      <th>SYMBOL</th>\n",
       "      <th>TERMINATED</th>\n",
       "      <th>DECIMALS</th>\n",
       "    </tr>\n",
       "  </thead>\n",
       "  <tbody>\n",
       "    <tr>\n",
       "      <th>41286</th>\n",
       "      <td>2000-01-01</td>\n",
       "      <td>Canada</td>\n",
       "      <td>2016A000011124</td>\n",
       "      <td>All-items</td>\n",
       "      <td>2002=100</td>\n",
       "      <td>17</td>\n",
       "      <td>units</td>\n",
       "      <td>0</td>\n",
       "      <td>v41693271</td>\n",
       "      <td>2.2</td>\n",
       "      <td>95.4</td>\n",
       "      <td>NaN</td>\n",
       "      <td>NaN</td>\n",
       "      <td>NaN</td>\n",
       "      <td>1</td>\n",
       "    </tr>\n",
       "    <tr>\n",
       "      <th>41287</th>\n",
       "      <td>2000-01-01</td>\n",
       "      <td>Canada</td>\n",
       "      <td>2016A000011124</td>\n",
       "      <td>Food</td>\n",
       "      <td>2002=100</td>\n",
       "      <td>17</td>\n",
       "      <td>units</td>\n",
       "      <td>0</td>\n",
       "      <td>v41693272</td>\n",
       "      <td>2.3</td>\n",
       "      <td>93.3</td>\n",
       "      <td>NaN</td>\n",
       "      <td>NaN</td>\n",
       "      <td>NaN</td>\n",
       "      <td>1</td>\n",
       "    </tr>\n",
       "    <tr>\n",
       "      <th>41288</th>\n",
       "      <td>2000-01-01</td>\n",
       "      <td>Canada</td>\n",
       "      <td>2016A000011124</td>\n",
       "      <td>Food purchased from stores</td>\n",
       "      <td>2002=100</td>\n",
       "      <td>17</td>\n",
       "      <td>units</td>\n",
       "      <td>0</td>\n",
       "      <td>v41693273</td>\n",
       "      <td>2.4</td>\n",
       "      <td>93.0</td>\n",
       "      <td>NaN</td>\n",
       "      <td>NaN</td>\n",
       "      <td>NaN</td>\n",
       "      <td>1</td>\n",
       "    </tr>\n",
       "    <tr>\n",
       "      <th>41289</th>\n",
       "      <td>2000-01-01</td>\n",
       "      <td>Canada</td>\n",
       "      <td>2016A000011124</td>\n",
       "      <td>Meat</td>\n",
       "      <td>2002=100</td>\n",
       "      <td>17</td>\n",
       "      <td>units</td>\n",
       "      <td>0</td>\n",
       "      <td>v41693274</td>\n",
       "      <td>2.5</td>\n",
       "      <td>90.8</td>\n",
       "      <td>NaN</td>\n",
       "      <td>NaN</td>\n",
       "      <td>NaN</td>\n",
       "      <td>1</td>\n",
       "    </tr>\n",
       "    <tr>\n",
       "      <th>41290</th>\n",
       "      <td>2000-01-01</td>\n",
       "      <td>Canada</td>\n",
       "      <td>2016A000011124</td>\n",
       "      <td>Fresh or frozen meat (excluding poultry)</td>\n",
       "      <td>2002=100</td>\n",
       "      <td>17</td>\n",
       "      <td>units</td>\n",
       "      <td>0</td>\n",
       "      <td>v41693275</td>\n",
       "      <td>2.6</td>\n",
       "      <td>86.7</td>\n",
       "      <td>NaN</td>\n",
       "      <td>NaN</td>\n",
       "      <td>NaN</td>\n",
       "      <td>1</td>\n",
       "    </tr>\n",
       "  </tbody>\n",
       "</table>\n",
       "</div>"
      ],
      "text/plain": [
       "        REF_DATE     GEO           DGUID  \\\n",
       "41286 2000-01-01  Canada  2016A000011124   \n",
       "41287 2000-01-01  Canada  2016A000011124   \n",
       "41288 2000-01-01  Canada  2016A000011124   \n",
       "41289 2000-01-01  Canada  2016A000011124   \n",
       "41290 2000-01-01  Canada  2016A000011124   \n",
       "\n",
       "                    Products and product groups       UOM UOM_ID  \\\n",
       "41286                                 All-items  2002=100     17   \n",
       "41287                                      Food  2002=100     17   \n",
       "41288                Food purchased from stores  2002=100     17   \n",
       "41289                                      Meat  2002=100     17   \n",
       "41290  Fresh or frozen meat (excluding poultry)  2002=100     17   \n",
       "\n",
       "      SCALAR_FACTOR SCALAR_ID     VECTOR COORDINATE  VALUE STATUS SYMBOL  \\\n",
       "41286         units         0  v41693271        2.2   95.4    NaN    NaN   \n",
       "41287         units         0  v41693272        2.3   93.3    NaN    NaN   \n",
       "41288         units         0  v41693273        2.4   93.0    NaN    NaN   \n",
       "41289         units         0  v41693274        2.5   90.8    NaN    NaN   \n",
       "41290         units         0  v41693275        2.6   86.7    NaN    NaN   \n",
       "\n",
       "      TERMINATED DECIMALS  \n",
       "41286        NaN        1  \n",
       "41287        NaN        1  \n",
       "41288        NaN        1  \n",
       "41289        NaN        1  \n",
       "41290        NaN        1  "
      ]
     },
     "execution_count": 9,
     "metadata": {},
     "output_type": "execute_result"
    }
   ],
   "source": [
    "# Convert the date to datetime64\n",
    "df['REF_DATE'] = pd.to_datetime(df['REF_DATE'], format='%Y-%m-%d')\n",
    "  \n",
    "# Filter data between two dates\n",
    "filtered_df = df.loc[(df['REF_DATE'] >= '2000-01-01')\n",
    "                     & (df['REF_DATE'] < '2021-01-01')]\n",
    "\n",
    "filtered_df.head()"
   ]
  },
  {
   "cell_type": "code",
   "execution_count": 10,
   "id": "cd05e88a-78bd-4f3f-8605-4cce5d3a6ae5",
   "metadata": {},
   "outputs": [
    {
     "data": {
      "text/html": [
       "<div>\n",
       "<style scoped>\n",
       "    .dataframe tbody tr th:only-of-type {\n",
       "        vertical-align: middle;\n",
       "    }\n",
       "\n",
       "    .dataframe tbody tr th {\n",
       "        vertical-align: top;\n",
       "    }\n",
       "\n",
       "    .dataframe thead th {\n",
       "        text-align: right;\n",
       "    }\n",
       "</style>\n",
       "<table border=\"1\" class=\"dataframe\">\n",
       "  <thead>\n",
       "    <tr style=\"text-align: right;\">\n",
       "      <th></th>\n",
       "      <th>v41693271</th>\n",
       "      <th>v41693272</th>\n",
       "      <th>v41693348</th>\n",
       "    </tr>\n",
       "    <tr>\n",
       "      <th>REF_DATE</th>\n",
       "      <th></th>\n",
       "      <th></th>\n",
       "      <th></th>\n",
       "    </tr>\n",
       "  </thead>\n",
       "  <tbody>\n",
       "    <tr>\n",
       "      <th>2017-01-01</th>\n",
       "      <td>130.4</td>\n",
       "      <td>142.7</td>\n",
       "      <td>138.1</td>\n",
       "    </tr>\n",
       "    <tr>\n",
       "      <th>2018-01-01</th>\n",
       "      <td>133.4</td>\n",
       "      <td>145.3</td>\n",
       "      <td>140.9</td>\n",
       "    </tr>\n",
       "    <tr>\n",
       "      <th>2019-01-01</th>\n",
       "      <td>136.0</td>\n",
       "      <td>150.2</td>\n",
       "      <td>144.5</td>\n",
       "    </tr>\n",
       "    <tr>\n",
       "      <th>2020-01-01</th>\n",
       "      <td>137.0</td>\n",
       "      <td>153.7</td>\n",
       "      <td>147.0</td>\n",
       "    </tr>\n",
       "    <tr>\n",
       "      <th>2021-01-01</th>\n",
       "      <td>141.6</td>\n",
       "      <td>157.5</td>\n",
       "      <td>152.7</td>\n",
       "    </tr>\n",
       "  </tbody>\n",
       "</table>\n",
       "</div>"
      ],
      "text/plain": [
       "            v41693271  v41693272  v41693348\n",
       "REF_DATE                                   \n",
       "2017-01-01      130.4      142.7      138.1\n",
       "2018-01-01      133.4      145.3      140.9\n",
       "2019-01-01      136.0      150.2      144.5\n",
       "2020-01-01      137.0      153.7      147.0\n",
       "2021-01-01      141.6      157.5      152.7"
      ]
     },
     "execution_count": 10,
     "metadata": {},
     "output_type": "execute_result"
    }
   ],
   "source": [
    "# if you just want data for all items, food, and shelter\n",
    "df = sc.vectors_to_df([\"v41693271\", \"v41693272\", \"v41693348\"])\n",
    "df.tail()"
   ]
  },
  {
   "cell_type": "markdown",
   "id": "78382ebb-1ebc-414a-8440-80e1499275ca",
   "metadata": {},
   "source": [
    "<p><img style=\"float: center;margin:5px 20px 5px 1px\" src=\"Images/df.jpg\" width=\"900\"></p>\n",
    "<p>There's lots to learn when it comes to pandas. One thing you should be aware of, though, is how tricky it can be to remember the state of your notebook when you only use \"df\" to name dataframes. Try to come up with something a little more descriptive. There is an ongoing debate in the Python data science community about this specific topic!</p> "
   ]
  },
  {
   "cell_type": "markdown",
   "id": "1c8ecd88-2cf7-4972-b927-d06c3d3bb0a8",
   "metadata": {},
   "source": [
    "<span style=\"color:DarkOliveGreen;font-weight:700;font-size:25px\">\n",
    "    pandas for Visualization\n",
    "</span>\n",
    "\n",
    "pandas has built-in visualization capacity that uses Matplotlib - the foundation of most Python visualization - in the background."
   ]
  },
  {
   "cell_type": "code",
   "execution_count": 27,
   "id": "422985bd-4d0f-48cb-9d81-025003f86026",
   "metadata": {},
   "outputs": [],
   "source": [
    "# we're going to import matplotlib using pyplot\n",
    "import matplotlib.pyplot as plt\n",
    "\n",
    "# we'll load a cleaned up version of the data\n",
    "df = pd.read_csv(\"./Data/cpi.csv\")"
   ]
  },
  {
   "cell_type": "markdown",
   "id": "8b16007f-b598-41ba-a153-6525c754315c",
   "metadata": {},
   "source": [
    "We're going to use a visualization method for time-series data that you're all likely familiar with - a line chart (or line plot, line graph, time-series visualization, etc.) Here's a great overview that covers how line charts work: https://www.storytellingwithdata.com/blog/2020/3/24/what-is-a-line-graph\n",
    "Ok... pandas will use Matplotlib as its backend, so you don't need to do much to spit out a simple line chart."
   ]
  },
  {
   "cell_type": "code",
   "execution_count": 21,
   "id": "524ff19d-c9eb-40bf-9861-b7bb1f409773",
   "metadata": {},
   "outputs": [
    {
     "data": {
      "image/png": "[encoded data removed]",
      "text/plain": [
       "<Figure size 432x288 with 1 Axes>"
      ]
     },
     "metadata": {
      "needs_background": "light"
     },
     "output_type": "display_data"
    }
   ],
   "source": [
    "df['All-items'].plot()\n",
    "plt.show()"
   ]
  },
  {
   "cell_type": "markdown",
   "id": "c9375b24-a0c6-4032-8032-98419e30b0c9",
   "metadata": {},
   "source": [
    "The blue line visualizes the \"All-items\" basket of the CPI. If we want to add additional categories (e.g. food and shelter), we can do so with the following code."
   ]
  },
  {
   "cell_type": "code",
   "execution_count": 22,
   "id": "bda640f4-661e-4719-a032-3c6d2728b430",
   "metadata": {},
   "outputs": [
    {
     "data": {
      "image/png": "[encoded data removed]",
      "text/plain": [
       "<Figure size 432x288 with 1 Axes>"
      ]
     },
     "metadata": {
      "needs_background": "light"
     },
     "output_type": "display_data"
    }
   ],
   "source": [
    "df['All-items'].plot()\n",
    "df['Food'].plot(color='green')\n",
    "df['Shelter'].plot(color='red')\n",
    "plt.show()"
   ]
  },
  {
   "cell_type": "markdown",
   "id": "ee284b14-ffab-40fd-9069-9d30c3231db5",
   "metadata": {},
   "source": [
    "<span style=\"color:DarkOliveGreen;font-weight:700;font-size:25px\">\n",
    "    Matplotlib\n",
    "</span>"
   ]
  },
  {
   "cell_type": "markdown",
   "id": "5adee9e7-7e88-450c-85f6-5f1c78760701",
   "metadata": {},
   "source": [
    "Ok... why does pandas use Matplotlib in the background? Because it is the foundation for nearly every Python visualization library you are likely to encounter. So, what is it? Matplotlib is a comprehensive library for creating static, animated, and interactive visualizations in Python. You can create basically any chart type you can think of with it.\n",
    "\n",
    "<p><img style=\"float: center;margin:5px 20px 5px 1px\" src=\"./Images/matplotlib.png\" width=\"900\"></p>\n",
    "\n",
    "You might encounter code that uses Pylab instead of Pyplot in its import statement. **Pyplot** provides the state-machine interface to the underlying plotting library in matplotlib. This means that figures and axes are implicitly and automatically created to achieve the desired plot. **Pylab** combines the pyplot functionality (for plotting) with the numpy functionality (for mathematics and for working with arrays) in a single namespace, making that namespace (or environment) even more MATLAB-like. For example, one can call the sin and cos functions just like you could in MATLAB, as well as having all the features of pyplot. The pyplot interface is generally preferred for non-interactive plotting (i.e., scripting). The pylab interface is convenient for interactive calculations and plotting, as it minimizes typing."
   ]
  },
  {
   "cell_type": "code",
   "execution_count": 25,
   "id": "c4ef42a7-f4c9-4058-aa36-ded28ddc87f5",
   "metadata": {},
   "outputs": [],
   "source": [
    "# hence, why we usually call\n",
    "import matplotlib.pyplot as plt"
   ]
  },
  {
   "cell_type": "markdown",
   "id": "5c21bd88-944b-4c7b-bee4-f85d2c350a10",
   "metadata": {},
   "source": [
    "When you're working with Matplotlib, you need to learn its \"grammar\" and syntax - what the different parts of a graph (or \"figure\") are. If you are familiar with R and ggplot2, or D3, or any other visualization library, you will find that many of the different components are similar across different languages. That said, there are things that are unique to Matplotlib. The more you practice with it, the more it will make sense.\n",
    "\n",
    "<p><img style=\"float: center;margin:5px 20px 5px 1px\" src=\"Images/anatomy.png\" width=\"900\"></p>"
   ]
  },
  {
   "cell_type": "code",
   "execution_count": 31,
   "id": "0a0ad7a5-c395-4ff6-be5a-747433a8d7e5",
   "metadata": {},
   "outputs": [
    {
     "data": {
      "image/png": "[encoded data removed]",
      "text/plain": [
       "<Figure size 432x288 with 1 Axes>"
      ]
     },
     "metadata": {
      "needs_background": "light"
     },
     "output_type": "display_data"
    }
   ],
   "source": [
    "## so, we've already imported matplotlib and loaded our dataset into a pandas dataframe in previous cells\n",
    "# import matplotlib.pyplot as plt\n",
    "# df = pd.read_csv(\"./Data/cpi.csv\")\n",
    "\n",
    "# X-axis is year\n",
    "year = df['Year']\n",
    " \n",
    "# Y-axis is for different basket items\n",
    "all_items = df['All-items']\n",
    "food = df['Food']\n",
    "shelter = df['Shelter']\n",
    " \n",
    "# plot the time series of given dataset\n",
    "plt.plot(year, all_items)\n",
    "plt.plot(year, food, color='green')\n",
    "plt.plot(year, shelter, color='red')\n",
    " \n",
    "# create a title for the graph\n",
    "plt.title('CPI Basket Items by Year')\n",
    " \n",
    "# rotate the x-axis tick labels at 30degree and towards right\n",
    "plt.xticks(rotation=30, ha='right')\n",
    "    \n",
    "# x and y labels for the graph\n",
    "plt.xlabel('Year')\n",
    "plt.ylabel('All Items')\n",
    "plt.show()"
   ]
  },
  {
   "cell_type": "markdown",
   "id": "b5b0856d-2f63-46f3-a91d-2b0ed14eb44f",
   "metadata": {},
   "source": [
    "Be mindful that when you search \"code for bar/pie/line/etc. chart in Matplotlib,\" you are likely to see all kinds of variations. Matplotlib syntax has changed a lot over the past decade, and there are a ton of Stack Overflow threads that repeat outdated code. That said, there's always more than one way to skin a cat."
   ]
  },
  {
   "cell_type": "markdown",
   "id": "85d8a901-cb74-4f2a-8cdc-d4bc59157d2c",
   "metadata": {},
   "source": [
    "<span style=\"color:DarkOliveGreen;font-weight:700;font-size:25px\">\n",
    "    Seaborn\n",
    "</span>"
   ]
  },
  {
   "cell_type": "code",
   "execution_count": 33,
   "id": "5dd27ef2-7aab-49ea-ba11-019846285453",
   "metadata": {},
   "outputs": [
    {
     "data": {
      "text/plain": [
       "<AxesSubplot:xlabel='Year', ylabel='All-items'>"
      ]
     },
     "execution_count": 33,
     "metadata": {},
     "output_type": "execute_result"
    },
    {
     "data": {
      "image/png": "[encoded data removed]",
      "text/plain": [
       "<Figure size 432x288 with 1 Axes>"
      ]
     },
     "metadata": {
      "needs_background": "light"
     },
     "output_type": "display_data"
    }
   ],
   "source": [
    "import seaborn as sns\n",
    "sns.lineplot (x = 'Year', y = 'All-items', data = df)\n",
    "sns.lineplot (x = 'Year', y = 'Food', data = df, color='green')\n",
    "sns.lineplot (x = 'Year', y = 'Shelter', data = df, color='red')"
   ]
  },
  {
   "cell_type": "markdown",
   "id": "1b34e156-0e38-4800-8801-8528d0ab7e51",
   "metadata": {},
   "source": [
    "<span style=\"color:DarkOliveGreen;font-weight:700;font-size:25px\">\n",
    "    Bokeh\n",
    "</span>"
   ]
  },
  {
   "cell_type": "code",
   "execution_count": 16,
   "id": "39bd7c80-6b66-4cc1-83f8-235cf7868bdc",
   "metadata": {},
   "outputs": [],
   "source": [
    "import bokeh\n",
    "from bokeh.models import ColumnDataSource\n",
    "from bokeh.plotting import figure, show, output_file"
   ]
  },
  {
   "cell_type": "code",
   "execution_count": 20,
   "id": "802f1e21-fdf3-4d78-9c6a-9b30e7e14537",
   "metadata": {},
   "outputs": [],
   "source": [
    "source = ColumnDataSource(df)\n",
    "\n",
    "p = figure(x_axis_type=\"datetime\", plot_width=800, plot_height=350)\n",
    "p.line('Year', 'All-items', source=source)\n",
    "p.line('Year', 'Food', color='green', source=source)\n",
    "p.line('Year', 'Shelter', color='red', source=source)\n",
    "\n",
    "output_file(\"ts.html\")\n",
    "show(p)"
   ]
  },
  {
   "cell_type": "markdown",
   "id": "05f55d79-2080-4e35-9edc-e6ae1ba12c13",
   "metadata": {},
   "source": [
    "Notice anything wrong? You need to declare the type of date for \"datetime\" to interpret it as a year instead of in milliseconds."
   ]
  },
  {
   "cell_type": "markdown",
   "id": "b52660eb-6de8-4f92-bbd0-62afa7264f78",
   "metadata": {},
   "source": [
    "<span style=\"color:DarkOliveGreen;font-weight:700;font-size:25px\">\n",
    "    Plotly\n",
    "</span>"
   ]
  },
  {
   "cell_type": "code",
   "execution_count": 51,
   "id": "0155e4b9-2d6e-4e6b-827e-0658f1e3f3c9",
   "metadata": {},
   "outputs": [
    {
     "data": {
      "application/vnd.plotly.v1+json": {
       "config": {
        "plotlyServerURL": "https://plot.ly"
       },
       "data": [
        {
         "hovertemplate": "Year=%{x}<br>Food=%{y}<extra></extra>",
         "legendgroup": "",
         "line": {
          "color": "#636efa",
          "dash": "solid"
         },
         "mode": "lines",
         "name": "",
         "orientation": "v",
         "showlegend": false,
         "type": "scatter",
         "x": [
          2000,
          2001,
          2002,
          2003,
          2004,
          2005,
          2006,
          2007,
          2008,
          2009,
          2010,
          2011,
          2012,
          2013,
          2014,
          2015,
          2016,
          2017,
          2018,
          2019,
          2020,
          2021
         ],
         "xaxis": "x",
         "y": [
          93.3,
          97.4,
          100,
          101.7,
          103.8,
          106.4,
          108.9,
          111.8,
          115.7,
          121.4,
          123.1,
          127.7,
          130.8,
          132.4,
          135.5,
          140.5,
          142.6,
          142.7,
          145.3,
          150.2,
          153.7,
          157.5
         ],
         "yaxis": "y"
        }
       ],
       "layout": {
        "height": 400,
        "legend": {
         "tracegroupgap": 0
        },
        "margin": {
         "t": 60
        },
        "template": {
         "data": {
          "bar": [
           {
            "error_x": {
             "color": "#2a3f5f"
            },
            "error_y": {
             "color": "#2a3f5f"
            },
            "marker": {
             "line": {
              "color": "#E5ECF6",
              "width": 0.5
             }
            },
            "type": "bar"
           }
          ],
          "barpolar": [
           {
            "marker": {
             "line": {
              "color": "#E5ECF6",
              "width": 0.5
             }
            },
            "type": "barpolar"
           }
          ],
          "carpet": [
           {
            "aaxis": {
             "endlinecolor": "#2a3f5f",
             "gridcolor": "white",
             "linecolor": "white",
             "minorgridcolor": "white",
             "startlinecolor": "#2a3f5f"
            },
            "baxis": {
             "endlinecolor": "#2a3f5f",
             "gridcolor": "white",
             "linecolor": "white",
             "minorgridcolor": "white",
             "startlinecolor": "#2a3f5f"
            },
            "type": "carpet"
           }
          ],
          "choropleth": [
           {
            "colorbar": {
             "outlinewidth": 0,
             "ticks": ""
            },
            "type": "choropleth"
           }
          ],
          "contour": [
           {
            "colorbar": {
             "outlinewidth": 0,
             "ticks": ""
            },
            "colorscale": [
             [
              0,
              "#0d0887"
             ],
             [
              0.1111111111111111,
              "#46039f"
             ],
             [
              0.2222222222222222,
              "#7201a8"
             ],
             [
              0.3333333333333333,
              "#9c179e"
             ],
             [
              0.4444444444444444,
              "#bd3786"
             ],
             [
              0.5555555555555556,
              "#d8576b"
             ],
             [
              0.6666666666666666,
              "#ed7953"
             ],
             [
              0.7777777777777778,
              "#fb9f3a"
             ],
             [
              0.8888888888888888,
              "#fdca26"
             ],
             [
              1,
              "#f0f921"
             ]
            ],
            "type": "contour"
           }
          ],
          "contourcarpet": [
           {
            "colorbar": {
             "outlinewidth": 0,
             "ticks": ""
            },
            "type": "contourcarpet"
           }
          ],
          "heatmap": [
           {
            "colorbar": {
             "outlinewidth": 0,
             "ticks": ""
            },
            "colorscale": [
             [
              0,
              "#0d0887"
             ],
             [
              0.1111111111111111,
              "#46039f"
             ],
             [
              0.2222222222222222,
              "#7201a8"
             ],
             [
              0.3333333333333333,
              "#9c179e"
             ],
             [
              0.4444444444444444,
              "#bd3786"
             ],
             [
              0.5555555555555556,
              "#d8576b"
             ],
             [
              0.6666666666666666,
              "#ed7953"
             ],
             [
              0.7777777777777778,
              "#fb9f3a"
             ],
             [
              0.8888888888888888,
              "#fdca26"
             ],
             [
              1,
              "#f0f921"
             ]
            ],
            "type": "heatmap"
           }
          ],
          "heatmapgl": [
           {
            "colorbar": {
             "outlinewidth": 0,
             "ticks": ""
            },
            "colorscale": [
             [
              0,
              "#0d0887"
             ],
             [
              0.1111111111111111,
              "#46039f"
             ],
             [
              0.2222222222222222,
              "#7201a8"
             ],
             [
              0.3333333333333333,
              "#9c179e"
             ],
             [
              0.4444444444444444,
              "#bd3786"
             ],
             [
              0.5555555555555556,
              "#d8576b"
             ],
             [
              0.6666666666666666,
              "#ed7953"
             ],
             [
              0.7777777777777778,
              "#fb9f3a"
             ],
             [
              0.8888888888888888,
              "#fdca26"
             ],
             [
              1,
              "#f0f921"
             ]
            ],
            "type": "heatmapgl"
           }
          ],
          "histogram": [
           {
            "marker": {
             "colorbar": {
              "outlinewidth": 0,
              "ticks": ""
             }
            },
            "type": "histogram"
           }
          ],
          "histogram2d": [
           {
            "colorbar": {
             "outlinewidth": 0,
             "ticks": ""
            },
            "colorscale": [
             [
              0,
              "#0d0887"
             ],
             [
              0.1111111111111111,
              "#46039f"
             ],
             [
              0.2222222222222222,
              "#7201a8"
             ],
             [
              0.3333333333333333,
              "#9c179e"
             ],
             [
              0.4444444444444444,
              "#bd3786"
             ],
             [
              0.5555555555555556,
              "#d8576b"
             ],
             [
              0.6666666666666666,
              "#ed7953"
             ],
             [
              0.7777777777777778,
              "#fb9f3a"
             ],
             [
              0.8888888888888888,
              "#fdca26"
             ],
             [
              1,
              "#f0f921"
             ]
            ],
            "type": "histogram2d"
           }
          ],
          "histogram2dcontour": [
           {
            "colorbar": {
             "outlinewidth": 0,
             "ticks": ""
            },
            "colorscale": [
             [
              0,
              "#0d0887"
             ],
             [
              0.1111111111111111,
              "#46039f"
             ],
             [
              0.2222222222222222,
              "#7201a8"
             ],
             [
              0.3333333333333333,
              "#9c179e"
             ],
             [
              0.4444444444444444,
              "#bd3786"
             ],
             [
              0.5555555555555556,
              "#d8576b"
             ],
             [
              0.6666666666666666,
              "#ed7953"
             ],
             [
              0.7777777777777778,
              "#fb9f3a"
             ],
             [
              0.8888888888888888,
              "#fdca26"
             ],
             [
              1,
              "#f0f921"
             ]
            ],
            "type": "histogram2dcontour"
           }
          ],
          "mesh3d": [
           {
            "colorbar": {
             "outlinewidth": 0,
             "ticks": ""
            },
            "type": "mesh3d"
           }
          ],
          "parcoords": [
           {
            "line": {
             "colorbar": {
              "outlinewidth": 0,
              "ticks": ""
             }
            },
            "type": "parcoords"
           }
          ],
          "pie": [
           {
            "automargin": true,
            "type": "pie"
           }
          ],
          "scatter": [
           {
            "marker": {
             "colorbar": {
              "outlinewidth": 0,
              "ticks": ""
             }
            },
            "type": "scatter"
           }
          ],
          "scatter3d": [
           {
            "line": {
             "colorbar": {
              "outlinewidth": 0,
              "ticks": ""
             }
            },
            "marker": {
             "colorbar": {
              "outlinewidth": 0,
              "ticks": ""
             }
            },
            "type": "scatter3d"
           }
          ],
          "scattercarpet": [
           {
            "marker": {
             "colorbar": {
              "outlinewidth": 0,
              "ticks": ""
             }
            },
            "type": "scattercarpet"
           }
          ],
          "scattergeo": [
           {
            "marker": {
             "colorbar": {
              "outlinewidth": 0,
              "ticks": ""
             }
            },
            "type": "scattergeo"
           }
          ],
          "scattergl": [
           {
            "marker": {
             "colorbar": {
              "outlinewidth": 0,
              "ticks": ""
             }
            },
            "type": "scattergl"
           }
          ],
          "scattermapbox": [
           {
            "marker": {
             "colorbar": {
              "outlinewidth": 0,
              "ticks": ""
             }
            },
            "type": "scattermapbox"
           }
          ],
          "scatterpolar": [
           {
            "marker": {
             "colorbar": {
              "outlinewidth": 0,
              "ticks": ""
             }
            },
            "type": "scatterpolar"
           }
          ],
          "scatterpolargl": [
           {
            "marker": {
             "colorbar": {
              "outlinewidth": 0,
              "ticks": ""
             }
            },
            "type": "scatterpolargl"
           }
          ],
          "scatterternary": [
           {
            "marker": {
             "colorbar": {
              "outlinewidth": 0,
              "ticks": ""
             }
            },
            "type": "scatterternary"
           }
          ],
          "surface": [
           {
            "colorbar": {
             "outlinewidth": 0,
             "ticks": ""
            },
            "colorscale": [
             [
              0,
              "#0d0887"
             ],
             [
              0.1111111111111111,
              "#46039f"
             ],
             [
              0.2222222222222222,
              "#7201a8"
             ],
             [
              0.3333333333333333,
              "#9c179e"
             ],
             [
              0.4444444444444444,
              "#bd3786"
             ],
             [
              0.5555555555555556,
              "#d8576b"
             ],
             [
              0.6666666666666666,
              "#ed7953"
             ],
             [
              0.7777777777777778,
              "#fb9f3a"
             ],
             [
              0.8888888888888888,
              "#fdca26"
             ],
             [
              1,
              "#f0f921"
             ]
            ],
            "type": "surface"
           }
          ],
          "table": [
           {
            "cells": {
             "fill": {
              "color": "#EBF0F8"
             },
             "line": {
              "color": "white"
             }
            },
            "header": {
             "fill": {
              "color": "#C8D4E3"
             },
             "line": {
              "color": "white"
             }
            },
            "type": "table"
           }
          ]
         },
         "layout": {
          "annotationdefaults": {
           "arrowcolor": "#2a3f5f",
           "arrowhead": 0,
           "arrowwidth": 1
          },
          "autotypenumbers": "strict",
          "coloraxis": {
           "colorbar": {
            "outlinewidth": 0,
            "ticks": ""
           }
          },
          "colorscale": {
           "diverging": [
            [
             0,
             "#8e0152"
            ],
            [
             0.1,
             "#c51b7d"
            ],
            [
             0.2,
             "#de77ae"
            ],
            [
             0.3,
             "#f1b6da"
            ],
            [
             0.4,
             "#fde0ef"
            ],
            [
             0.5,
             "#f7f7f7"
            ],
            [
             0.6,
             "#e6f5d0"
            ],
            [
             0.7,
             "#b8e186"
            ],
            [
             0.8,
             "#7fbc41"
            ],
            [
             0.9,
             "#4d9221"
            ],
            [
             1,
             "#276419"
            ]
           ],
           "sequential": [
            [
             0,
             "#0d0887"
            ],
            [
             0.1111111111111111,
             "#46039f"
            ],
            [
             0.2222222222222222,
             "#7201a8"
            ],
            [
             0.3333333333333333,
             "#9c179e"
            ],
            [
             0.4444444444444444,
             "#bd3786"
            ],
            [
             0.5555555555555556,
             "#d8576b"
            ],
            [
             0.6666666666666666,
             "#ed7953"
            ],
            [
             0.7777777777777778,
             "#fb9f3a"
            ],
            [
             0.8888888888888888,
             "#fdca26"
            ],
            [
             1,
             "#f0f921"
            ]
           ],
           "sequentialminus": [
            [
             0,
             "#0d0887"
            ],
            [
             0.1111111111111111,
             "#46039f"
            ],
            [
             0.2222222222222222,
             "#7201a8"
            ],
            [
             0.3333333333333333,
             "#9c179e"
            ],
            [
             0.4444444444444444,
             "#bd3786"
            ],
            [
             0.5555555555555556,
             "#d8576b"
            ],
            [
             0.6666666666666666,
             "#ed7953"
            ],
            [
             0.7777777777777778,
             "#fb9f3a"
            ],
            [
             0.8888888888888888,
             "#fdca26"
            ],
            [
             1,
             "#f0f921"
            ]
           ]
          },
          "colorway": [
           "#636efa",
           "#EF553B",
           "#00cc96",
           "#ab63fa",
           "#FFA15A",
           "#19d3f3",
           "#FF6692",
           "#B6E880",
           "#FF97FF",
           "#FECB52"
          ],
          "font": {
           "color": "#2a3f5f"
          },
          "geo": {
           "bgcolor": "white",
           "lakecolor": "white",
           "landcolor": "#E5ECF6",
           "showlakes": true,
           "showland": true,
           "subunitcolor": "white"
          },
          "hoverlabel": {
           "align": "left"
          },
          "hovermode": "closest",
          "mapbox": {
           "style": "light"
          },
          "paper_bgcolor": "white",
          "plot_bgcolor": "#E5ECF6",
          "polar": {
           "angularaxis": {
            "gridcolor": "white",
            "linecolor": "white",
            "ticks": ""
           },
           "bgcolor": "#E5ECF6",
           "radialaxis": {
            "gridcolor": "white",
            "linecolor": "white",
            "ticks": ""
           }
          },
          "scene": {
           "xaxis": {
            "backgroundcolor": "#E5ECF6",
            "gridcolor": "white",
            "gridwidth": 2,
            "linecolor": "white",
            "showbackground": true,
            "ticks": "",
            "zerolinecolor": "white"
           },
           "yaxis": {
            "backgroundcolor": "#E5ECF6",
            "gridcolor": "white",
            "gridwidth": 2,
            "linecolor": "white",
            "showbackground": true,
            "ticks": "",
            "zerolinecolor": "white"
           },
           "zaxis": {
            "backgroundcolor": "#E5ECF6",
            "gridcolor": "white",
            "gridwidth": 2,
            "linecolor": "white",
            "showbackground": true,
            "ticks": "",
            "zerolinecolor": "white"
           }
          },
          "shapedefaults": {
           "line": {
            "color": "#2a3f5f"
           }
          },
          "ternary": {
           "aaxis": {
            "gridcolor": "white",
            "linecolor": "white",
            "ticks": ""
           },
           "baxis": {
            "gridcolor": "white",
            "linecolor": "white",
            "ticks": ""
           },
           "bgcolor": "#E5ECF6",
           "caxis": {
            "gridcolor": "white",
            "linecolor": "white",
            "ticks": ""
           }
          },
          "title": {
           "x": 0.05
          },
          "xaxis": {
           "automargin": true,
           "gridcolor": "white",
           "linecolor": "white",
           "ticks": "",
           "title": {
            "standoff": 15
           },
           "zerolinecolor": "white",
           "zerolinewidth": 2
          },
          "yaxis": {
           "automargin": true,
           "gridcolor": "white",
           "linecolor": "white",
           "ticks": "",
           "title": {
            "standoff": 15
           },
           "zerolinecolor": "white",
           "zerolinewidth": 2
          }
         }
        },
        "width": 800,
        "xaxis": {
         "anchor": "y",
         "autorange": true,
         "domain": [
          0,
          1
         ],
         "range": [
          2000,
          2021
         ],
         "title": {
          "text": "Year"
         },
         "type": "linear"
        },
        "yaxis": {
         "anchor": "x",
         "autorange": true,
         "domain": [
          0,
          1
         ],
         "range": [
          89.73333333333333,
          161.06666666666666
         ],
         "title": {
          "text": "Food"
         },
         "type": "linear"
        }
       }
      },
      "image/png": "[encoded data removed]",
      "text/html": [
       "<div>                            <div id=\"acc7e567-50af-4585-b910-1dd7ce2ebeec\" class=\"plotly-graph-div\" style=\"height:400px; width:800px;\"></div>            <script type=\"text/javascript\">                require([\"plotly\"], function(Plotly) {                    window.PLOTLYENV=window.PLOTLYENV || {};                                    if (document.getElementById(\"acc7e567-50af-4585-b910-1dd7ce2ebeec\")) {                    Plotly.newPlot(                        \"acc7e567-50af-4585-b910-1dd7ce2ebeec\",                        [{\"hovertemplate\": \"Year=%{x}<br>Food=%{y}<extra></extra>\", \"legendgroup\": \"\", \"line\": {\"color\": \"#636efa\", \"dash\": \"solid\"}, \"mode\": \"lines\", \"name\": \"\", \"orientation\": \"v\", \"showlegend\": false, \"type\": \"scatter\", \"x\": [2000, 2001, 2002, 2003, 2004, 2005, 2006, 2007, 2008, 2009, 2010, 2011, 2012, 2013, 2014, 2015, 2016, 2017, 2018, 2019, 2020, 2021], \"xaxis\": \"x\", \"y\": [93.3, 97.4, 100.0, 101.7, 103.8, 106.4, 108.9, 111.8, 115.7, 121.4, 123.1, 127.7, 130.8, 132.4, 135.5, 140.5, 142.6, 142.7, 145.3, 150.2, 153.7, 157.5], \"yaxis\": \"y\"}],                        {\"height\": 400, \"legend\": {\"tracegroupgap\": 0}, \"margin\": {\"t\": 60}, \"template\": {\"data\": {\"bar\": [{\"error_x\": {\"color\": \"#2a3f5f\"}, \"error_y\": {\"color\": \"#2a3f5f\"}, \"marker\": {\"line\": {\"color\": \"#E5ECF6\", \"width\": 0.5}}, \"type\": \"bar\"}], \"barpolar\": [{\"marker\": {\"line\": {\"color\": \"#E5ECF6\", \"width\": 0.5}}, \"type\": \"barpolar\"}], \"carpet\": [{\"aaxis\": {\"endlinecolor\": \"#2a3f5f\", \"gridcolor\": \"white\", \"linecolor\": \"white\", \"minorgridcolor\": \"white\", \"startlinecolor\": \"#2a3f5f\"}, \"baxis\": {\"endlinecolor\": \"#2a3f5f\", \"gridcolor\": \"white\", \"linecolor\": \"white\", \"minorgridcolor\": \"white\", \"startlinecolor\": \"#2a3f5f\"}, \"type\": \"carpet\"}], \"choropleth\": [{\"colorbar\": {\"outlinewidth\": 0, \"ticks\": \"\"}, \"type\": \"choropleth\"}], \"contour\": [{\"colorbar\": {\"outlinewidth\": 0, \"ticks\": \"\"}, \"colorscale\": [[0.0, \"#0d0887\"], [0.1111111111111111, \"#46039f\"], [0.2222222222222222, \"#7201a8\"], [0.3333333333333333, \"#9c179e\"], [0.4444444444444444, \"#bd3786\"], [0.5555555555555556, \"#d8576b\"], [0.6666666666666666, \"#ed7953\"], [0.7777777777777778, \"#fb9f3a\"], [0.8888888888888888, \"#fdca26\"], [1.0, \"#f0f921\"]], \"type\": \"contour\"}], \"contourcarpet\": [{\"colorbar\": {\"outlinewidth\": 0, \"ticks\": \"\"}, \"type\": \"contourcarpet\"}], \"heatmap\": [{\"colorbar\": {\"outlinewidth\": 0, \"ticks\": \"\"}, \"colorscale\": [[0.0, \"#0d0887\"], [0.1111111111111111, \"#46039f\"], [0.2222222222222222, \"#7201a8\"], [0.3333333333333333, \"#9c179e\"], [0.4444444444444444, \"#bd3786\"], [0.5555555555555556, \"#d8576b\"], [0.6666666666666666, \"#ed7953\"], [0.7777777777777778, \"#fb9f3a\"], [0.8888888888888888, \"#fdca26\"], [1.0, \"#f0f921\"]], \"type\": \"heatmap\"}], \"heatmapgl\": [{\"colorbar\": {\"outlinewidth\": 0, \"ticks\": \"\"}, \"colorscale\": [[0.0, \"#0d0887\"], [0.1111111111111111, \"#46039f\"], [0.2222222222222222, \"#7201a8\"], [0.3333333333333333, \"#9c179e\"], [0.4444444444444444, \"#bd3786\"], [0.5555555555555556, \"#d8576b\"], [0.6666666666666666, \"#ed7953\"], [0.7777777777777778, \"#fb9f3a\"], [0.8888888888888888, \"#fdca26\"], [1.0, \"#f0f921\"]], \"type\": \"heatmapgl\"}], \"histogram\": [{\"marker\": {\"colorbar\": {\"outlinewidth\": 0, \"ticks\": \"\"}}, \"type\": \"histogram\"}], \"histogram2d\": [{\"colorbar\": {\"outlinewidth\": 0, \"ticks\": \"\"}, \"colorscale\": [[0.0, \"#0d0887\"], [0.1111111111111111, \"#46039f\"], [0.2222222222222222, \"#7201a8\"], [0.3333333333333333, \"#9c179e\"], [0.4444444444444444, \"#bd3786\"], [0.5555555555555556, \"#d8576b\"], [0.6666666666666666, \"#ed7953\"], [0.7777777777777778, \"#fb9f3a\"], [0.8888888888888888, \"#fdca26\"], [1.0, \"#f0f921\"]], \"type\": \"histogram2d\"}], \"histogram2dcontour\": [{\"colorbar\": {\"outlinewidth\": 0, \"ticks\": \"\"}, \"colorscale\": [[0.0, \"#0d0887\"], [0.1111111111111111, \"#46039f\"], [0.2222222222222222, \"#7201a8\"], [0.3333333333333333, \"#9c179e\"], [0.4444444444444444, \"#bd3786\"], [0.5555555555555556, \"#d8576b\"], [0.6666666666666666, \"#ed7953\"], [0.7777777777777778, \"#fb9f3a\"], [0.8888888888888888, \"#fdca26\"], [1.0, \"#f0f921\"]], \"type\": \"histogram2dcontour\"}], \"mesh3d\": [{\"colorbar\": {\"outlinewidth\": 0, \"ticks\": \"\"}, \"type\": \"mesh3d\"}], \"parcoords\": [{\"line\": {\"colorbar\": {\"outlinewidth\": 0, \"ticks\": \"\"}}, \"type\": \"parcoords\"}], \"pie\": [{\"automargin\": true, \"type\": \"pie\"}], \"scatter\": [{\"marker\": {\"colorbar\": {\"outlinewidth\": 0, \"ticks\": \"\"}}, \"type\": \"scatter\"}], \"scatter3d\": [{\"line\": {\"colorbar\": {\"outlinewidth\": 0, \"ticks\": \"\"}}, \"marker\": {\"colorbar\": {\"outlinewidth\": 0, \"ticks\": \"\"}}, \"type\": \"scatter3d\"}], \"scattercarpet\": [{\"marker\": {\"colorbar\": {\"outlinewidth\": 0, \"ticks\": \"\"}}, \"type\": \"scattercarpet\"}], \"scattergeo\": [{\"marker\": {\"colorbar\": {\"outlinewidth\": 0, \"ticks\": \"\"}}, \"type\": \"scattergeo\"}], \"scattergl\": [{\"marker\": {\"colorbar\": {\"outlinewidth\": 0, \"ticks\": \"\"}}, \"type\": \"scattergl\"}], \"scattermapbox\": [{\"marker\": {\"colorbar\": {\"outlinewidth\": 0, \"ticks\": \"\"}}, \"type\": \"scattermapbox\"}], \"scatterpolar\": [{\"marker\": {\"colorbar\": {\"outlinewidth\": 0, \"ticks\": \"\"}}, \"type\": \"scatterpolar\"}], \"scatterpolargl\": [{\"marker\": {\"colorbar\": {\"outlinewidth\": 0, \"ticks\": \"\"}}, \"type\": \"scatterpolargl\"}], \"scatterternary\": [{\"marker\": {\"colorbar\": {\"outlinewidth\": 0, \"ticks\": \"\"}}, \"type\": \"scatterternary\"}], \"surface\": [{\"colorbar\": {\"outlinewidth\": 0, \"ticks\": \"\"}, \"colorscale\": [[0.0, \"#0d0887\"], [0.1111111111111111, \"#46039f\"], [0.2222222222222222, \"#7201a8\"], [0.3333333333333333, \"#9c179e\"], [0.4444444444444444, \"#bd3786\"], [0.5555555555555556, \"#d8576b\"], [0.6666666666666666, \"#ed7953\"], [0.7777777777777778, \"#fb9f3a\"], [0.8888888888888888, \"#fdca26\"], [1.0, \"#f0f921\"]], \"type\": \"surface\"}], \"table\": [{\"cells\": {\"fill\": {\"color\": \"#EBF0F8\"}, \"line\": {\"color\": \"white\"}}, \"header\": {\"fill\": {\"color\": \"#C8D4E3\"}, \"line\": {\"color\": \"white\"}}, \"type\": \"table\"}]}, \"layout\": {\"annotationdefaults\": {\"arrowcolor\": \"#2a3f5f\", \"arrowhead\": 0, \"arrowwidth\": 1}, \"autotypenumbers\": \"strict\", \"coloraxis\": {\"colorbar\": {\"outlinewidth\": 0, \"ticks\": \"\"}}, \"colorscale\": {\"diverging\": [[0, \"#8e0152\"], [0.1, \"#c51b7d\"], [0.2, \"#de77ae\"], [0.3, \"#f1b6da\"], [0.4, \"#fde0ef\"], [0.5, \"#f7f7f7\"], [0.6, \"#e6f5d0\"], [0.7, \"#b8e186\"], [0.8, \"#7fbc41\"], [0.9, \"#4d9221\"], [1, \"#276419\"]], \"sequential\": [[0.0, \"#0d0887\"], [0.1111111111111111, \"#46039f\"], [0.2222222222222222, \"#7201a8\"], [0.3333333333333333, \"#9c179e\"], [0.4444444444444444, \"#bd3786\"], [0.5555555555555556, \"#d8576b\"], [0.6666666666666666, \"#ed7953\"], [0.7777777777777778, \"#fb9f3a\"], [0.8888888888888888, \"#fdca26\"], [1.0, \"#f0f921\"]], \"sequentialminus\": [[0.0, \"#0d0887\"], [0.1111111111111111, \"#46039f\"], [0.2222222222222222, \"#7201a8\"], [0.3333333333333333, \"#9c179e\"], [0.4444444444444444, \"#bd3786\"], [0.5555555555555556, \"#d8576b\"], [0.6666666666666666, \"#ed7953\"], [0.7777777777777778, \"#fb9f3a\"], [0.8888888888888888, \"#fdca26\"], [1.0, \"#f0f921\"]]}, \"colorway\": [\"#636efa\", \"#EF553B\", \"#00cc96\", \"#ab63fa\", \"#FFA15A\", \"#19d3f3\", \"#FF6692\", \"#B6E880\", \"#FF97FF\", \"#FECB52\"], \"font\": {\"color\": \"#2a3f5f\"}, \"geo\": {\"bgcolor\": \"white\", \"lakecolor\": \"white\", \"landcolor\": \"#E5ECF6\", \"showlakes\": true, \"showland\": true, \"subunitcolor\": \"white\"}, \"hoverlabel\": {\"align\": \"left\"}, \"hovermode\": \"closest\", \"mapbox\": {\"style\": \"light\"}, \"paper_bgcolor\": \"white\", \"plot_bgcolor\": \"#E5ECF6\", \"polar\": {\"angularaxis\": {\"gridcolor\": \"white\", \"linecolor\": \"white\", \"ticks\": \"\"}, \"bgcolor\": \"#E5ECF6\", \"radialaxis\": {\"gridcolor\": \"white\", \"linecolor\": \"white\", \"ticks\": \"\"}}, \"scene\": {\"xaxis\": {\"backgroundcolor\": \"#E5ECF6\", \"gridcolor\": \"white\", \"gridwidth\": 2, \"linecolor\": \"white\", \"showbackground\": true, \"ticks\": \"\", \"zerolinecolor\": \"white\"}, \"yaxis\": {\"backgroundcolor\": \"#E5ECF6\", \"gridcolor\": \"white\", \"gridwidth\": 2, \"linecolor\": \"white\", \"showbackground\": true, \"ticks\": \"\", \"zerolinecolor\": \"white\"}, \"zaxis\": {\"backgroundcolor\": \"#E5ECF6\", \"gridcolor\": \"white\", \"gridwidth\": 2, \"linecolor\": \"white\", \"showbackground\": true, \"ticks\": \"\", \"zerolinecolor\": \"white\"}}, \"shapedefaults\": {\"line\": {\"color\": \"#2a3f5f\"}}, \"ternary\": {\"aaxis\": {\"gridcolor\": \"white\", \"linecolor\": \"white\", \"ticks\": \"\"}, \"baxis\": {\"gridcolor\": \"white\", \"linecolor\": \"white\", \"ticks\": \"\"}, \"bgcolor\": \"#E5ECF6\", \"caxis\": {\"gridcolor\": \"white\", \"linecolor\": \"white\", \"ticks\": \"\"}}, \"title\": {\"x\": 0.05}, \"xaxis\": {\"automargin\": true, \"gridcolor\": \"white\", \"linecolor\": \"white\", \"ticks\": \"\", \"title\": {\"standoff\": 15}, \"zerolinecolor\": \"white\", \"zerolinewidth\": 2}, \"yaxis\": {\"automargin\": true, \"gridcolor\": \"white\", \"linecolor\": \"white\", \"ticks\": \"\", \"title\": {\"standoff\": 15}, \"zerolinecolor\": \"white\", \"zerolinewidth\": 2}}}, \"width\": 800, \"xaxis\": {\"anchor\": \"y\", \"domain\": [0.0, 1.0], \"title\": {\"text\": \"Year\"}}, \"yaxis\": {\"anchor\": \"x\", \"domain\": [0.0, 1.0], \"title\": {\"text\": \"Food\"}}},                        {\"responsive\": true}                    ).then(function(){\n",
       "                            \n",
       "var gd = document.getElementById('acc7e567-50af-4585-b910-1dd7ce2ebeec');\n",
       "var x = new MutationObserver(function (mutations, observer) {{\n",
       "        var display = window.getComputedStyle(gd).display;\n",
       "        if (!display || display === 'none') {{\n",
       "            console.log([gd, 'removed!']);\n",
       "            Plotly.purge(gd);\n",
       "            observer.disconnect();\n",
       "        }}\n",
       "}});\n",
       "\n",
       "// Listen for the removal of the full notebook cells\n",
       "var notebookContainer = gd.closest('#notebook-container');\n",
       "if (notebookContainer) {{\n",
       "    x.observe(notebookContainer, {childList: true});\n",
       "}}\n",
       "\n",
       "// Listen for the clearing of the current output cell\n",
       "var outputEl = gd.closest('.output');\n",
       "if (outputEl) {{\n",
       "    x.observe(outputEl, {childList: true});\n",
       "}}\n",
       "\n",
       "                        })                };                });            </script>        </div>"
      ]
     },
     "metadata": {},
     "output_type": "display_data"
    }
   ],
   "source": [
    "# Using plotly express\n",
    "import plotly.express as px\n",
    "\n",
    "fig = px.line(df, x='Year', y=\"Food\", width=800, height=400)\n",
    "fig.show()"
   ]
  },
  {
   "cell_type": "code",
   "execution_count": 50,
   "id": "e81e2f09-969a-429e-8606-86c3b0ffabf5",
   "metadata": {},
   "outputs": [
    {
     "data": {
      "application/vnd.plotly.v1+json": {
       "config": {
        "plotlyServerURL": "https://plot.ly"
       },
       "data": [
        {
         "line": {
          "color": "green"
         },
         "name": "Food",
         "type": "scatter",
         "x": [
          2000,
          2001,
          2002,
          2003,
          2004,
          2005,
          2006,
          2007,
          2008,
          2009,
          2010,
          2011,
          2012,
          2013,
          2014,
          2015,
          2016,
          2017,
          2018,
          2019,
          2020,
          2021
         ],
         "y": [
          93.3,
          97.4,
          100,
          101.7,
          103.8,
          106.4,
          108.9,
          111.8,
          115.7,
          121.4,
          123.1,
          127.7,
          130.8,
          132.4,
          135.5,
          140.5,
          142.6,
          142.7,
          145.3,
          150.2,
          153.7,
          157.5
         ]
        },
        {
         "line": {
          "color": "red"
         },
         "name": "Shelter",
         "type": "scatter",
         "x": [
          2000,
          2001,
          2002,
          2003,
          2004,
          2005,
          2006,
          2007,
          2008,
          2009,
          2010,
          2011,
          2012,
          2013,
          2014,
          2015,
          2016,
          2017,
          2018,
          2019,
          2020,
          2021
         ],
         "y": [
          95.6,
          99.1,
          100,
          103.2,
          105.8,
          109.2,
          113.1,
          116.9,
          122,
          121.6,
          123.3,
          125.6,
          127.1,
          128.7,
          132.2,
          133.7,
          135.8,
          138.1,
          140.9,
          144.5,
          147,
          152.7
         ]
        }
       ],
       "layout": {
        "autosize": false,
        "height": 400,
        "margin": {
         "b": 100,
         "l": 50,
         "pad": 4,
         "r": 50,
         "t": 100
        },
        "paper_bgcolor": "AliceBlue",
        "template": {
         "data": {
          "bar": [
           {
            "error_x": {
             "color": "#2a3f5f"
            },
            "error_y": {
             "color": "#2a3f5f"
            },
            "marker": {
             "line": {
              "color": "#E5ECF6",
              "width": 0.5
             }
            },
            "type": "bar"
           }
          ],
          "barpolar": [
           {
            "marker": {
             "line": {
              "color": "#E5ECF6",
              "width": 0.5
             }
            },
            "type": "barpolar"
           }
          ],
          "carpet": [
           {
            "aaxis": {
             "endlinecolor": "#2a3f5f",
             "gridcolor": "white",
             "linecolor": "white",
             "minorgridcolor": "white",
             "startlinecolor": "#2a3f5f"
            },
            "baxis": {
             "endlinecolor": "#2a3f5f",
             "gridcolor": "white",
             "linecolor": "white",
             "minorgridcolor": "white",
             "startlinecolor": "#2a3f5f"
            },
            "type": "carpet"
           }
          ],
          "choropleth": [
           {
            "colorbar": {
             "outlinewidth": 0,
             "ticks": ""
            },
            "type": "choropleth"
           }
          ],
          "contour": [
           {
            "colorbar": {
             "outlinewidth": 0,
             "ticks": ""
            },
            "colorscale": [
             [
              0,
              "#0d0887"
             ],
             [
              0.1111111111111111,
              "#46039f"
             ],
             [
              0.2222222222222222,
              "#7201a8"
             ],
             [
              0.3333333333333333,
              "#9c179e"
             ],
             [
              0.4444444444444444,
              "#bd3786"
             ],
             [
              0.5555555555555556,
              "#d8576b"
             ],
             [
              0.6666666666666666,
              "#ed7953"
             ],
             [
              0.7777777777777778,
              "#fb9f3a"
             ],
             [
              0.8888888888888888,
              "#fdca26"
             ],
             [
              1,
              "#f0f921"
             ]
            ],
            "type": "contour"
           }
          ],
          "contourcarpet": [
           {
            "colorbar": {
             "outlinewidth": 0,
             "ticks": ""
            },
            "type": "contourcarpet"
           }
          ],
          "heatmap": [
           {
            "colorbar": {
             "outlinewidth": 0,
             "ticks": ""
            },
            "colorscale": [
             [
              0,
              "#0d0887"
             ],
             [
              0.1111111111111111,
              "#46039f"
             ],
             [
              0.2222222222222222,
              "#7201a8"
             ],
             [
              0.3333333333333333,
              "#9c179e"
             ],
             [
              0.4444444444444444,
              "#bd3786"
             ],
             [
              0.5555555555555556,
              "#d8576b"
             ],
             [
              0.6666666666666666,
              "#ed7953"
             ],
             [
              0.7777777777777778,
              "#fb9f3a"
             ],
             [
              0.8888888888888888,
              "#fdca26"
             ],
             [
              1,
              "#f0f921"
             ]
            ],
            "type": "heatmap"
           }
          ],
          "heatmapgl": [
           {
            "colorbar": {
             "outlinewidth": 0,
             "ticks": ""
            },
            "colorscale": [
             [
              0,
              "#0d0887"
             ],
             [
              0.1111111111111111,
              "#46039f"
             ],
             [
              0.2222222222222222,
              "#7201a8"
             ],
             [
              0.3333333333333333,
              "#9c179e"
             ],
             [
              0.4444444444444444,
              "#bd3786"
             ],
             [
              0.5555555555555556,
              "#d8576b"
             ],
             [
              0.6666666666666666,
              "#ed7953"
             ],
             [
              0.7777777777777778,
              "#fb9f3a"
             ],
             [
              0.8888888888888888,
              "#fdca26"
             ],
             [
              1,
              "#f0f921"
             ]
            ],
            "type": "heatmapgl"
           }
          ],
          "histogram": [
           {
            "marker": {
             "colorbar": {
              "outlinewidth": 0,
              "ticks": ""
             }
            },
            "type": "histogram"
           }
          ],
          "histogram2d": [
           {
            "colorbar": {
             "outlinewidth": 0,
             "ticks": ""
            },
            "colorscale": [
             [
              0,
              "#0d0887"
             ],
             [
              0.1111111111111111,
              "#46039f"
             ],
             [
              0.2222222222222222,
              "#7201a8"
             ],
             [
              0.3333333333333333,
              "#9c179e"
             ],
             [
              0.4444444444444444,
              "#bd3786"
             ],
             [
              0.5555555555555556,
              "#d8576b"
             ],
             [
              0.6666666666666666,
              "#ed7953"
             ],
             [
              0.7777777777777778,
              "#fb9f3a"
             ],
             [
              0.8888888888888888,
              "#fdca26"
             ],
             [
              1,
              "#f0f921"
             ]
            ],
            "type": "histogram2d"
           }
          ],
          "histogram2dcontour": [
           {
            "colorbar": {
             "outlinewidth": 0,
             "ticks": ""
            },
            "colorscale": [
             [
              0,
              "#0d0887"
             ],
             [
              0.1111111111111111,
              "#46039f"
             ],
             [
              0.2222222222222222,
              "#7201a8"
             ],
             [
              0.3333333333333333,
              "#9c179e"
             ],
             [
              0.4444444444444444,
              "#bd3786"
             ],
             [
              0.5555555555555556,
              "#d8576b"
             ],
             [
              0.6666666666666666,
              "#ed7953"
             ],
             [
              0.7777777777777778,
              "#fb9f3a"
             ],
             [
              0.8888888888888888,
              "#fdca26"
             ],
             [
              1,
              "#f0f921"
             ]
            ],
            "type": "histogram2dcontour"
           }
          ],
          "mesh3d": [
           {
            "colorbar": {
             "outlinewidth": 0,
             "ticks": ""
            },
            "type": "mesh3d"
           }
          ],
          "parcoords": [
           {
            "line": {
             "colorbar": {
              "outlinewidth": 0,
              "ticks": ""
             }
            },
            "type": "parcoords"
           }
          ],
          "pie": [
           {
            "automargin": true,
            "type": "pie"
           }
          ],
          "scatter": [
           {
            "marker": {
             "colorbar": {
              "outlinewidth": 0,
              "ticks": ""
             }
            },
            "type": "scatter"
           }
          ],
          "scatter3d": [
           {
            "line": {
             "colorbar": {
              "outlinewidth": 0,
              "ticks": ""
             }
            },
            "marker": {
             "colorbar": {
              "outlinewidth": 0,
              "ticks": ""
             }
            },
            "type": "scatter3d"
           }
          ],
          "scattercarpet": [
           {
            "marker": {
             "colorbar": {
              "outlinewidth": 0,
              "ticks": ""
             }
            },
            "type": "scattercarpet"
           }
          ],
          "scattergeo": [
           {
            "marker": {
             "colorbar": {
              "outlinewidth": 0,
              "ticks": ""
             }
            },
            "type": "scattergeo"
           }
          ],
          "scattergl": [
           {
            "marker": {
             "colorbar": {
              "outlinewidth": 0,
              "ticks": ""
             }
            },
            "type": "scattergl"
           }
          ],
          "scattermapbox": [
           {
            "marker": {
             "colorbar": {
              "outlinewidth": 0,
              "ticks": ""
             }
            },
            "type": "scattermapbox"
           }
          ],
          "scatterpolar": [
           {
            "marker": {
             "colorbar": {
              "outlinewidth": 0,
              "ticks": ""
             }
            },
            "type": "scatterpolar"
           }
          ],
          "scatterpolargl": [
           {
            "marker": {
             "colorbar": {
              "outlinewidth": 0,
              "ticks": ""
             }
            },
            "type": "scatterpolargl"
           }
          ],
          "scatterternary": [
           {
            "marker": {
             "colorbar": {
              "outlinewidth": 0,
              "ticks": ""
             }
            },
            "type": "scatterternary"
           }
          ],
          "surface": [
           {
            "colorbar": {
             "outlinewidth": 0,
             "ticks": ""
            },
            "colorscale": [
             [
              0,
              "#0d0887"
             ],
             [
              0.1111111111111111,
              "#46039f"
             ],
             [
              0.2222222222222222,
              "#7201a8"
             ],
             [
              0.3333333333333333,
              "#9c179e"
             ],
             [
              0.4444444444444444,
              "#bd3786"
             ],
             [
              0.5555555555555556,
              "#d8576b"
             ],
             [
              0.6666666666666666,
              "#ed7953"
             ],
             [
              0.7777777777777778,
              "#fb9f3a"
             ],
             [
              0.8888888888888888,
              "#fdca26"
             ],
             [
              1,
              "#f0f921"
             ]
            ],
            "type": "surface"
           }
          ],
          "table": [
           {
            "cells": {
             "fill": {
              "color": "#EBF0F8"
             },
             "line": {
              "color": "white"
             }
            },
            "header": {
             "fill": {
              "color": "#C8D4E3"
             },
             "line": {
              "color": "white"
             }
            },
            "type": "table"
           }
          ]
         },
         "layout": {
          "annotationdefaults": {
           "arrowcolor": "#2a3f5f",
           "arrowhead": 0,
           "arrowwidth": 1
          },
          "autotypenumbers": "strict",
          "coloraxis": {
           "colorbar": {
            "outlinewidth": 0,
            "ticks": ""
           }
          },
          "colorscale": {
           "diverging": [
            [
             0,
             "#8e0152"
            ],
            [
             0.1,
             "#c51b7d"
            ],
            [
             0.2,
             "#de77ae"
            ],
            [
             0.3,
             "#f1b6da"
            ],
            [
             0.4,
             "#fde0ef"
            ],
            [
             0.5,
             "#f7f7f7"
            ],
            [
             0.6,
             "#e6f5d0"
            ],
            [
             0.7,
             "#b8e186"
            ],
            [
             0.8,
             "#7fbc41"
            ],
            [
             0.9,
             "#4d9221"
            ],
            [
             1,
             "#276419"
            ]
           ],
           "sequential": [
            [
             0,
             "#0d0887"
            ],
            [
             0.1111111111111111,
             "#46039f"
            ],
            [
             0.2222222222222222,
             "#7201a8"
            ],
            [
             0.3333333333333333,
             "#9c179e"
            ],
            [
             0.4444444444444444,
             "#bd3786"
            ],
            [
             0.5555555555555556,
             "#d8576b"
            ],
            [
             0.6666666666666666,
             "#ed7953"
            ],
            [
             0.7777777777777778,
             "#fb9f3a"
            ],
            [
             0.8888888888888888,
             "#fdca26"
            ],
            [
             1,
             "#f0f921"
            ]
           ],
           "sequentialminus": [
            [
             0,
             "#0d0887"
            ],
            [
             0.1111111111111111,
             "#46039f"
            ],
            [
             0.2222222222222222,
             "#7201a8"
            ],
            [
             0.3333333333333333,
             "#9c179e"
            ],
            [
             0.4444444444444444,
             "#bd3786"
            ],
            [
             0.5555555555555556,
             "#d8576b"
            ],
            [
             0.6666666666666666,
             "#ed7953"
            ],
            [
             0.7777777777777778,
             "#fb9f3a"
            ],
            [
             0.8888888888888888,
             "#fdca26"
            ],
            [
             1,
             "#f0f921"
            ]
           ]
          },
          "colorway": [
           "#636efa",
           "#EF553B",
           "#00cc96",
           "#ab63fa",
           "#FFA15A",
           "#19d3f3",
           "#FF6692",
           "#B6E880",
           "#FF97FF",
           "#FECB52"
          ],
          "font": {
           "color": "#2a3f5f"
          },
          "geo": {
           "bgcolor": "white",
           "lakecolor": "white",
           "landcolor": "#E5ECF6",
           "showlakes": true,
           "showland": true,
           "subunitcolor": "white"
          },
          "hoverlabel": {
           "align": "left"
          },
          "hovermode": "closest",
          "mapbox": {
           "style": "light"
          },
          "paper_bgcolor": "white",
          "plot_bgcolor": "#E5ECF6",
          "polar": {
           "angularaxis": {
            "gridcolor": "white",
            "linecolor": "white",
            "ticks": ""
           },
           "bgcolor": "#E5ECF6",
           "radialaxis": {
            "gridcolor": "white",
            "linecolor": "white",
            "ticks": ""
           }
          },
          "scene": {
           "xaxis": {
            "backgroundcolor": "#E5ECF6",
            "gridcolor": "white",
            "gridwidth": 2,
            "linecolor": "white",
            "showbackground": true,
            "ticks": "",
            "zerolinecolor": "white"
           },
           "yaxis": {
            "backgroundcolor": "#E5ECF6",
            "gridcolor": "white",
            "gridwidth": 2,
            "linecolor": "white",
            "showbackground": true,
            "ticks": "",
            "zerolinecolor": "white"
           },
           "zaxis": {
            "backgroundcolor": "#E5ECF6",
            "gridcolor": "white",
            "gridwidth": 2,
            "linecolor": "white",
            "showbackground": true,
            "ticks": "",
            "zerolinecolor": "white"
           }
          },
          "shapedefaults": {
           "line": {
            "color": "#2a3f5f"
           }
          },
          "ternary": {
           "aaxis": {
            "gridcolor": "white",
            "linecolor": "white",
            "ticks": ""
           },
           "baxis": {
            "gridcolor": "white",
            "linecolor": "white",
            "ticks": ""
           },
           "bgcolor": "#E5ECF6",
           "caxis": {
            "gridcolor": "white",
            "linecolor": "white",
            "ticks": ""
           }
          },
          "title": {
           "x": 0.05
          },
          "xaxis": {
           "automargin": true,
           "gridcolor": "white",
           "linecolor": "white",
           "ticks": "",
           "title": {
            "standoff": 15
           },
           "zerolinecolor": "white",
           "zerolinewidth": 2
          },
          "yaxis": {
           "automargin": true,
           "gridcolor": "white",
           "linecolor": "white",
           "ticks": "",
           "title": {
            "standoff": 15
           },
           "zerolinecolor": "white",
           "zerolinewidth": 2
          }
         }
        },
        "width": 800,
        "xaxis": {
         "autorange": true,
         "range": [
          2000,
          2021
         ],
         "type": "linear"
        },
        "yaxis": {
         "autorange": true,
         "range": [
          89.73333333333333,
          161.06666666666666
         ],
         "type": "linear"
        }
       }
      },
      "image/png": "[encoded data removed]",
      "text/html": [
       "<div>                            <div id=\"6878b2d5-9ace-4296-91e1-9956b6f0d2d5\" class=\"plotly-graph-div\" style=\"height:400px; width:800px;\"></div>            <script type=\"text/javascript\">                require([\"plotly\"], function(Plotly) {                    window.PLOTLYENV=window.PLOTLYENV || {};                                    if (document.getElementById(\"6878b2d5-9ace-4296-91e1-9956b6f0d2d5\")) {                    Plotly.newPlot(                        \"6878b2d5-9ace-4296-91e1-9956b6f0d2d5\",                        [{\"line\": {\"color\": \"green\"}, \"name\": \"Food\", \"type\": \"scatter\", \"x\": [2000, 2001, 2002, 2003, 2004, 2005, 2006, 2007, 2008, 2009, 2010, 2011, 2012, 2013, 2014, 2015, 2016, 2017, 2018, 2019, 2020, 2021], \"y\": [93.3, 97.4, 100.0, 101.7, 103.8, 106.4, 108.9, 111.8, 115.7, 121.4, 123.1, 127.7, 130.8, 132.4, 135.5, 140.5, 142.6, 142.7, 145.3, 150.2, 153.7, 157.5]}, {\"line\": {\"color\": \"red\"}, \"name\": \"Shelter\", \"type\": \"scatter\", \"x\": [2000, 2001, 2002, 2003, 2004, 2005, 2006, 2007, 2008, 2009, 2010, 2011, 2012, 2013, 2014, 2015, 2016, 2017, 2018, 2019, 2020, 2021], \"y\": [95.6, 99.1, 100.0, 103.2, 105.8, 109.2, 113.1, 116.9, 122.0, 121.6, 123.3, 125.6, 127.1, 128.7, 132.2, 133.7, 135.8, 138.1, 140.9, 144.5, 147.0, 152.7]}],                        {\"autosize\": false, \"height\": 400, \"margin\": {\"b\": 100, \"l\": 50, \"pad\": 4, \"r\": 50, \"t\": 100}, \"paper_bgcolor\": \"AliceBlue\", \"template\": {\"data\": {\"bar\": [{\"error_x\": {\"color\": \"#2a3f5f\"}, \"error_y\": {\"color\": \"#2a3f5f\"}, \"marker\": {\"line\": {\"color\": \"#E5ECF6\", \"width\": 0.5}}, \"type\": \"bar\"}], \"barpolar\": [{\"marker\": {\"line\": {\"color\": \"#E5ECF6\", \"width\": 0.5}}, \"type\": \"barpolar\"}], \"carpet\": [{\"aaxis\": {\"endlinecolor\": \"#2a3f5f\", \"gridcolor\": \"white\", \"linecolor\": \"white\", \"minorgridcolor\": \"white\", \"startlinecolor\": \"#2a3f5f\"}, \"baxis\": {\"endlinecolor\": \"#2a3f5f\", \"gridcolor\": \"white\", \"linecolor\": \"white\", \"minorgridcolor\": \"white\", \"startlinecolor\": \"#2a3f5f\"}, \"type\": \"carpet\"}], \"choropleth\": [{\"colorbar\": {\"outlinewidth\": 0, \"ticks\": \"\"}, \"type\": \"choropleth\"}], \"contour\": [{\"colorbar\": {\"outlinewidth\": 0, \"ticks\": \"\"}, \"colorscale\": [[0.0, \"#0d0887\"], [0.1111111111111111, \"#46039f\"], [0.2222222222222222, \"#7201a8\"], [0.3333333333333333, \"#9c179e\"], [0.4444444444444444, \"#bd3786\"], [0.5555555555555556, \"#d8576b\"], [0.6666666666666666, \"#ed7953\"], [0.7777777777777778, \"#fb9f3a\"], [0.8888888888888888, \"#fdca26\"], [1.0, \"#f0f921\"]], \"type\": \"contour\"}], \"contourcarpet\": [{\"colorbar\": {\"outlinewidth\": 0, \"ticks\": \"\"}, \"type\": \"contourcarpet\"}], \"heatmap\": [{\"colorbar\": {\"outlinewidth\": 0, \"ticks\": \"\"}, \"colorscale\": [[0.0, \"#0d0887\"], [0.1111111111111111, \"#46039f\"], [0.2222222222222222, \"#7201a8\"], [0.3333333333333333, \"#9c179e\"], [0.4444444444444444, \"#bd3786\"], [0.5555555555555556, \"#d8576b\"], [0.6666666666666666, \"#ed7953\"], [0.7777777777777778, \"#fb9f3a\"], [0.8888888888888888, \"#fdca26\"], [1.0, \"#f0f921\"]], \"type\": \"heatmap\"}], \"heatmapgl\": [{\"colorbar\": {\"outlinewidth\": 0, \"ticks\": \"\"}, \"colorscale\": [[0.0, \"#0d0887\"], [0.1111111111111111, \"#46039f\"], [0.2222222222222222, \"#7201a8\"], [0.3333333333333333, \"#9c179e\"], [0.4444444444444444, \"#bd3786\"], [0.5555555555555556, \"#d8576b\"], [0.6666666666666666, \"#ed7953\"], [0.7777777777777778, \"#fb9f3a\"], [0.8888888888888888, \"#fdca26\"], [1.0, \"#f0f921\"]], \"type\": \"heatmapgl\"}], \"histogram\": [{\"marker\": {\"colorbar\": {\"outlinewidth\": 0, \"ticks\": \"\"}}, \"type\": \"histogram\"}], \"histogram2d\": [{\"colorbar\": {\"outlinewidth\": 0, \"ticks\": \"\"}, \"colorscale\": [[0.0, \"#0d0887\"], [0.1111111111111111, \"#46039f\"], [0.2222222222222222, \"#7201a8\"], [0.3333333333333333, \"#9c179e\"], [0.4444444444444444, \"#bd3786\"], [0.5555555555555556, \"#d8576b\"], [0.6666666666666666, \"#ed7953\"], [0.7777777777777778, \"#fb9f3a\"], [0.8888888888888888, \"#fdca26\"], [1.0, \"#f0f921\"]], \"type\": \"histogram2d\"}], \"histogram2dcontour\": [{\"colorbar\": {\"outlinewidth\": 0, \"ticks\": \"\"}, \"colorscale\": [[0.0, \"#0d0887\"], [0.1111111111111111, \"#46039f\"], [0.2222222222222222, \"#7201a8\"], [0.3333333333333333, \"#9c179e\"], [0.4444444444444444, \"#bd3786\"], [0.5555555555555556, \"#d8576b\"], [0.6666666666666666, \"#ed7953\"], [0.7777777777777778, \"#fb9f3a\"], [0.8888888888888888, \"#fdca26\"], [1.0, \"#f0f921\"]], \"type\": \"histogram2dcontour\"}], \"mesh3d\": [{\"colorbar\": {\"outlinewidth\": 0, \"ticks\": \"\"}, \"type\": \"mesh3d\"}], \"parcoords\": [{\"line\": {\"colorbar\": {\"outlinewidth\": 0, \"ticks\": \"\"}}, \"type\": \"parcoords\"}], \"pie\": [{\"automargin\": true, \"type\": \"pie\"}], \"scatter\": [{\"marker\": {\"colorbar\": {\"outlinewidth\": 0, \"ticks\": \"\"}}, \"type\": \"scatter\"}], \"scatter3d\": [{\"line\": {\"colorbar\": {\"outlinewidth\": 0, \"ticks\": \"\"}}, \"marker\": {\"colorbar\": {\"outlinewidth\": 0, \"ticks\": \"\"}}, \"type\": \"scatter3d\"}], \"scattercarpet\": [{\"marker\": {\"colorbar\": {\"outlinewidth\": 0, \"ticks\": \"\"}}, \"type\": \"scattercarpet\"}], \"scattergeo\": [{\"marker\": {\"colorbar\": {\"outlinewidth\": 0, \"ticks\": \"\"}}, \"type\": \"scattergeo\"}], \"scattergl\": [{\"marker\": {\"colorbar\": {\"outlinewidth\": 0, \"ticks\": \"\"}}, \"type\": \"scattergl\"}], \"scattermapbox\": [{\"marker\": {\"colorbar\": {\"outlinewidth\": 0, \"ticks\": \"\"}}, \"type\": \"scattermapbox\"}], \"scatterpolar\": [{\"marker\": {\"colorbar\": {\"outlinewidth\": 0, \"ticks\": \"\"}}, \"type\": \"scatterpolar\"}], \"scatterpolargl\": [{\"marker\": {\"colorbar\": {\"outlinewidth\": 0, \"ticks\": \"\"}}, \"type\": \"scatterpolargl\"}], \"scatterternary\": [{\"marker\": {\"colorbar\": {\"outlinewidth\": 0, \"ticks\": \"\"}}, \"type\": \"scatterternary\"}], \"surface\": [{\"colorbar\": {\"outlinewidth\": 0, \"ticks\": \"\"}, \"colorscale\": [[0.0, \"#0d0887\"], [0.1111111111111111, \"#46039f\"], [0.2222222222222222, \"#7201a8\"], [0.3333333333333333, \"#9c179e\"], [0.4444444444444444, \"#bd3786\"], [0.5555555555555556, \"#d8576b\"], [0.6666666666666666, \"#ed7953\"], [0.7777777777777778, \"#fb9f3a\"], [0.8888888888888888, \"#fdca26\"], [1.0, \"#f0f921\"]], \"type\": \"surface\"}], \"table\": [{\"cells\": {\"fill\": {\"color\": \"#EBF0F8\"}, \"line\": {\"color\": \"white\"}}, \"header\": {\"fill\": {\"color\": \"#C8D4E3\"}, \"line\": {\"color\": \"white\"}}, \"type\": \"table\"}]}, \"layout\": {\"annotationdefaults\": {\"arrowcolor\": \"#2a3f5f\", \"arrowhead\": 0, \"arrowwidth\": 1}, \"autotypenumbers\": \"strict\", \"coloraxis\": {\"colorbar\": {\"outlinewidth\": 0, \"ticks\": \"\"}}, \"colorscale\": {\"diverging\": [[0, \"#8e0152\"], [0.1, \"#c51b7d\"], [0.2, \"#de77ae\"], [0.3, \"#f1b6da\"], [0.4, \"#fde0ef\"], [0.5, \"#f7f7f7\"], [0.6, \"#e6f5d0\"], [0.7, \"#b8e186\"], [0.8, \"#7fbc41\"], [0.9, \"#4d9221\"], [1, \"#276419\"]], \"sequential\": [[0.0, \"#0d0887\"], [0.1111111111111111, \"#46039f\"], [0.2222222222222222, \"#7201a8\"], [0.3333333333333333, \"#9c179e\"], [0.4444444444444444, \"#bd3786\"], [0.5555555555555556, \"#d8576b\"], [0.6666666666666666, \"#ed7953\"], [0.7777777777777778, \"#fb9f3a\"], [0.8888888888888888, \"#fdca26\"], [1.0, \"#f0f921\"]], \"sequentialminus\": [[0.0, \"#0d0887\"], [0.1111111111111111, \"#46039f\"], [0.2222222222222222, \"#7201a8\"], [0.3333333333333333, \"#9c179e\"], [0.4444444444444444, \"#bd3786\"], [0.5555555555555556, \"#d8576b\"], [0.6666666666666666, \"#ed7953\"], [0.7777777777777778, \"#fb9f3a\"], [0.8888888888888888, \"#fdca26\"], [1.0, \"#f0f921\"]]}, \"colorway\": [\"#636efa\", \"#EF553B\", \"#00cc96\", \"#ab63fa\", \"#FFA15A\", \"#19d3f3\", \"#FF6692\", \"#B6E880\", \"#FF97FF\", \"#FECB52\"], \"font\": {\"color\": \"#2a3f5f\"}, \"geo\": {\"bgcolor\": \"white\", \"lakecolor\": \"white\", \"landcolor\": \"#E5ECF6\", \"showlakes\": true, \"showland\": true, \"subunitcolor\": \"white\"}, \"hoverlabel\": {\"align\": \"left\"}, \"hovermode\": \"closest\", \"mapbox\": {\"style\": \"light\"}, \"paper_bgcolor\": \"white\", \"plot_bgcolor\": \"#E5ECF6\", \"polar\": {\"angularaxis\": {\"gridcolor\": \"white\", \"linecolor\": \"white\", \"ticks\": \"\"}, \"bgcolor\": \"#E5ECF6\", \"radialaxis\": {\"gridcolor\": \"white\", \"linecolor\": \"white\", \"ticks\": \"\"}}, \"scene\": {\"xaxis\": {\"backgroundcolor\": \"#E5ECF6\", \"gridcolor\": \"white\", \"gridwidth\": 2, \"linecolor\": \"white\", \"showbackground\": true, \"ticks\": \"\", \"zerolinecolor\": \"white\"}, \"yaxis\": {\"backgroundcolor\": \"#E5ECF6\", \"gridcolor\": \"white\", \"gridwidth\": 2, \"linecolor\": \"white\", \"showbackground\": true, \"ticks\": \"\", \"zerolinecolor\": \"white\"}, \"zaxis\": {\"backgroundcolor\": \"#E5ECF6\", \"gridcolor\": \"white\", \"gridwidth\": 2, \"linecolor\": \"white\", \"showbackground\": true, \"ticks\": \"\", \"zerolinecolor\": \"white\"}}, \"shapedefaults\": {\"line\": {\"color\": \"#2a3f5f\"}}, \"ternary\": {\"aaxis\": {\"gridcolor\": \"white\", \"linecolor\": \"white\", \"ticks\": \"\"}, \"baxis\": {\"gridcolor\": \"white\", \"linecolor\": \"white\", \"ticks\": \"\"}, \"bgcolor\": \"#E5ECF6\", \"caxis\": {\"gridcolor\": \"white\", \"linecolor\": \"white\", \"ticks\": \"\"}}, \"title\": {\"x\": 0.05}, \"xaxis\": {\"automargin\": true, \"gridcolor\": \"white\", \"linecolor\": \"white\", \"ticks\": \"\", \"title\": {\"standoff\": 15}, \"zerolinecolor\": \"white\", \"zerolinewidth\": 2}, \"yaxis\": {\"automargin\": true, \"gridcolor\": \"white\", \"linecolor\": \"white\", \"ticks\": \"\", \"title\": {\"standoff\": 15}, \"zerolinecolor\": \"white\", \"zerolinewidth\": 2}}}, \"width\": 800},                        {\"responsive\": true}                    ).then(function(){\n",
       "                            \n",
       "var gd = document.getElementById('6878b2d5-9ace-4296-91e1-9956b6f0d2d5');\n",
       "var x = new MutationObserver(function (mutations, observer) {{\n",
       "        var display = window.getComputedStyle(gd).display;\n",
       "        if (!display || display === 'none') {{\n",
       "            console.log([gd, 'removed!']);\n",
       "            Plotly.purge(gd);\n",
       "            observer.disconnect();\n",
       "        }}\n",
       "}});\n",
       "\n",
       "// Listen for the removal of the full notebook cells\n",
       "var notebookContainer = gd.closest('#notebook-container');\n",
       "if (notebookContainer) {{\n",
       "    x.observe(notebookContainer, {childList: true});\n",
       "}}\n",
       "\n",
       "// Listen for the clearing of the current output cell\n",
       "var outputEl = gd.closest('.output');\n",
       "if (outputEl) {{\n",
       "    x.observe(outputEl, {childList: true});\n",
       "}}\n",
       "\n",
       "                        })                };                });            </script>        </div>"
      ]
     },
     "metadata": {},
     "output_type": "display_data"
    }
   ],
   "source": [
    "# Using plotly graph_objects\n",
    "import plotly.graph_objects as go\n",
    "\n",
    "# one line\n",
    "#fig = go.Figure([go.Scatter(x=df['Year'], y=df['All-items'])])\n",
    "\n",
    "# more than one line\n",
    "fig = go.Figure()\n",
    "\n",
    "fig.add_trace(go.Scatter(x=df['Year'], y=df['Food'], name=\"Food\", line=dict(color=\"green\")))\n",
    "fig.add_trace(go.Scatter(x=df['Year'], y=df['Shelter'], name=\"Shelter\", line=dict(color=\"red\")))\n",
    "              \n",
    "fig.update_layout(\n",
    "    autosize=False,\n",
    "    width=800,\n",
    "    height=400,\n",
    "    margin=dict(\n",
    "        l=50,\n",
    "        r=50,\n",
    "        b=100,\n",
    "        t=100,\n",
    "        pad=4\n",
    "    ),\n",
    "    paper_bgcolor=\"AliceBlue\",\n",
    ")\n",
    "\n",
    "fig.show()"
   ]
  },
  {
   "cell_type": "markdown",
   "id": "b5dc064c-b2a4-477b-9be4-34a1d60c0b74",
   "metadata": {},
   "source": [
    "<span style=\"color:DarkOliveGreen;font-weight:700;font-size:25px\">\n",
    "    Some Other Things We Can Do With Time-Series Data\n",
    "</span>\n",
    "\n",
    "So far, we've only touched the surface of what we can do with these Python visualization libraries. These basic line charts will help us understand trends, but not much more. What additional things might we do? We can:\n",
    "\n",
    "- Add trend lines using linear regression and OLS methods\n",
    "- Split the lines into small multiples (or facet plots)\n",
    "- Use plotly as a backend to pandas: pd.options.plotting.backend = \"plotly\"\n",
    "- Add additional interactive features\n",
    "- Annotate the graphic\n",
    "- Familiarize ourselves with appropriate x-y ratios for time-series charts https://chezvoila.com/blog/yaxis/"
   ]
  },
  {
   "cell_type": "markdown",
   "id": "0f5348e0-8095-43a1-916d-27f672f76f2a",
   "metadata": {},
   "source": [
    "<span style=\"color:DarkOliveGreen;font-weight:700;font-size:25px\">\n",
    "    Additional Resources\n",
    "</span>\n",
    "\n",
    "While Matplotlib and its various front-end libraries are powerful, there are a host of other resources you will need to familiarize yourself with if you want to do advanced visualization in Python. \n",
    "\n",
    "- https://www.python-graph-gallery.com/ The Python Graph Gallery is a comprehensive go-to source for explanations, examples, and Python code when you are looking to create new visualizations. \n",
    "- https://docs.enthought.com/mayavi/mayavi/ MayaVi is a tool for 3D and Scientific Visualization in Python. \n",
    "- https://medium.com/nightingale/how-to-create-eye-catching-maps-with-python-and-kepler-gl-e7e897eff8ac Uber's Kepler.gl tool is great for geospatial analysis and has a Python interface that makes it great for visualizing large geospatial datasets."
   ]
  },
  {
   "cell_type": "markdown",
   "id": "4a516697-f658-46f7-89ea-1af6a889e2d8",
   "metadata": {},
   "source": [
    "<span style=\"color:DarkOliveGreen;font-weight:700;font-size:25px\">\n",
    "    Today's Key Takeaways\n",
    "</span>\n",
    "\n",
    "If you want to become comfortable analyzing and visualizing data in Python, be active. Try different datasets and challenges, try out different libraries, and have fun. That said, there are a couple of important takeaways from today. \n",
    "\n",
    "- To truly understand visualization in Python, you should learn Matplotlib!\n",
    "- But to really speed up your workflow, learn one of the front-end libraries and use it consistently. \n",
    "- If you anticipate working with big datasets or developing interactive graphics and/or dashboards, learn Plotly (+Dash) or Bokeh (+Holoviews)."
   ]
  },
  {
   "cell_type": "markdown",
   "id": "ee316dd0-16f0-456b-9ab0-3bf337b3bc7d",
   "metadata": {},
   "source": [
    "<span style=\"color:DarkOliveGreen;font-weight:700;font-size:25px\">\n",
    "    Challenge\n",
    "</span>\n",
    "\n",
    "Use one of the visualization libraries described in this notebook to show which CPI category has experienced the most growth over the past 5 years (taking into account the fact that the data ends in 2021). Come up with an explanation for its growth. "
   ]
  },
  {
   "cell_type": "markdown",
   "id": "c3629457-d9fa-495a-b7de-d6b514db08f9",
   "metadata": {},
   "source": [
    "<span style=\"color:DarkOliveGreen;font-weight:700;font-size:25px\">\n",
    "    Some Fun CPI Visualization Examples\n",
    "</span>\n",
    "\n",
    "Here are some fun recent CPI visualization examples from the news. Most will have been built using JavaScript libraries like D3 for the browser-based interactive components, but there's a good chance that the underlying data science processes will have used Python.\n",
    "\n",
    "- https://www.politico.com/interactives/2022/food-prices-rising-inflation-2022\n",
    "- https://www.washingtonpost.com/business/interactive/2022/inflation-quiz/ \n",
    "- https://www.theguardian.com/business/ng-interactive/2022/jun/21/cost-of-living-crisis-uk-households-charts-inflation \n",
    "- https://ici.radio-canada.ca/info/2022/panier-epicerie/hausse-prix-aliments-inflation-pouvoir-achat\n",
    "- https://www.nytimes.com/interactive/2022/05/08/business/economy/inflation-calculator.html "
   ]
  }
 ],
 "metadata": {
  "kernelspec": {
   "display_name": "Python 3",
   "language": "python",
   "name": "python3"
  },
  "language_info": {
   "codemirror_mode": {
    "name": "ipython",
    "version": 3
   },
   "file_extension": ".py",
   "mimetype": "text/x-python",
   "name": "python",
   "nbconvert_exporter": "python",
   "pygments_lexer": "ipython3",
   "version": "3.8.10"
  }
 },
 "nbformat": 4,
 "nbformat_minor": 5
}
